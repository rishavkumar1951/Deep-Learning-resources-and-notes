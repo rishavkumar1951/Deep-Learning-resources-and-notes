{
  "nbformat": 4,
  "nbformat_minor": 0,
  "metadata": {
    "colab": {
      "provenance": []
    },
    "kernelspec": {
      "name": "python3",
      "display_name": "Python 3"
    },
    "language_info": {
      "name": "python"
    }
  },
  "cells": [
    {
      "cell_type": "code",
      "source": [
        "from tensorflow.keras.applications.resnet50 import ResNet50 , preprocess_input , decode_predictions\n",
        "from tensorflow.keras.preprocessing import image\n",
        "import numpy as np"
      ],
      "metadata": {
        "id": "Fe_3YW9N9GLC"
      },
      "execution_count": 1,
      "outputs": []
    },
    {
      "cell_type": "code",
      "source": [
        "model = ResNet50(weights = 'imagenet')"
      ],
      "metadata": {
        "colab": {
          "base_uri": "https://localhost:8080/"
        },
        "id": "AUgGyx0p9GIx",
        "outputId": "c4a23bbd-edbb-4f3e-ad21-971e1065ea9e"
      },
      "execution_count": 2,
      "outputs": [
        {
          "output_type": "stream",
          "name": "stdout",
          "text": [
            "Downloading data from https://storage.googleapis.com/tensorflow/keras-applications/resnet/resnet50_weights_tf_dim_ordering_tf_kernels.h5\n",
            "\u001b[1m102967424/102967424\u001b[0m \u001b[32m━━━━━━━━━━━━━━━━━━━━\u001b[0m\u001b[37m\u001b[0m \u001b[1m4s\u001b[0m 0us/step\n"
          ]
        }
      ]
    },
    {
      "cell_type": "markdown",
      "source": [
        "### image preprocessing"
      ],
      "metadata": {
        "id": "B-z3ooTg9mdW"
      }
    },
    {
      "cell_type": "code",
      "source": [
        "img_path = 'dog.jfif'\n",
        "img = image.load_img(img_path , target_size = (224 ,224))\n",
        "x = image.img_to_array(img)\n",
        "x = np.expand_dims(x , axis = 0)\n",
        "x = preprocess_input(x)"
      ],
      "metadata": {
        "id": "AreLo-pQ9GGB"
      },
      "execution_count": 3,
      "outputs": []
    },
    {
      "cell_type": "code",
      "execution_count": 4,
      "metadata": {
        "colab": {
          "base_uri": "https://localhost:8080/"
        },
        "id": "RJKh4VhJ87hY",
        "outputId": "a961e03f-865e-408e-f001-d3aaac3a53b5"
      },
      "outputs": [
        {
          "output_type": "stream",
          "name": "stdout",
          "text": [
            "\u001b[1m1/1\u001b[0m \u001b[32m━━━━━━━━━━━━━━━━━━━━\u001b[0m\u001b[37m\u001b[0m \u001b[1m2s\u001b[0m 2s/step\n",
            "Downloading data from https://storage.googleapis.com/download.tensorflow.org/data/imagenet_class_index.json\n",
            "\u001b[1m35363/35363\u001b[0m \u001b[32m━━━━━━━━━━━━━━━━━━━━\u001b[0m\u001b[37m\u001b[0m \u001b[1m0s\u001b[0m 1us/step\n",
            "predicted :  [('n02099712', 'Labrador_retriever', 0.9965599), ('n02099601', 'golden_retriever', 0.0031812622), ('n02090379', 'redbone', 5.0131253e-05)]\n"
          ]
        }
      ],
      "source": [
        "preds = model.predict(x)\n",
        "print('predicted : ' , decode_predictions(preds , top = 3 )[0])"
      ]
    },
    {
      "cell_type": "markdown",
      "source": [
        "Right"
      ],
      "metadata": {
        "id": "k5-gNSk29ioV"
      }
    },
    {
      "cell_type": "code",
      "source": [
        "img_path = 'dog 2.jfif'\n",
        "img = image.load_img(img_path , target_size = (224 ,224))\n",
        "x = image.img_to_array(img)\n",
        "x = np.expand_dims(x , axis = 0)\n",
        "x = preprocess_input(x)\n",
        "\n",
        "preds = model.predict(x)\n",
        "print('predicted : ' , decode_predictions(preds , top = 3 )[0])"
      ],
      "metadata": {
        "colab": {
          "base_uri": "https://localhost:8080/"
        },
        "id": "hKS48CzD9VUO",
        "outputId": "5ef0f0ba-6dc0-49ac-9333-5e92077e3cca"
      },
      "execution_count": 5,
      "outputs": [
        {
          "output_type": "stream",
          "name": "stdout",
          "text": [
            "\u001b[1m1/1\u001b[0m \u001b[32m━━━━━━━━━━━━━━━━━━━━\u001b[0m\u001b[37m\u001b[0m \u001b[1m0s\u001b[0m 193ms/step\n",
            "predicted :  [('n02089973', 'English_foxhound', 0.6899606), ('n02089867', 'Walker_hound', 0.18635005), ('n02088364', 'beagle', 0.055458687)]\n"
          ]
        }
      ]
    },
    {
      "cell_type": "code",
      "source": [
        "img_path = 'cat.jfif'\n",
        "img = image.load_img(img_path , target_size = (224 ,224))\n",
        "x = image.img_to_array(img)\n",
        "x = np.expand_dims(x , axis = 0)\n",
        "x = preprocess_input(x)\n",
        "\n",
        "preds = model.predict(x)\n",
        "print('predicted : ' , decode_predictions(preds , top = 3 )[0])"
      ],
      "metadata": {
        "colab": {
          "base_uri": "https://localhost:8080/"
        },
        "id": "O5lQai5U9VMG",
        "outputId": "bd0517ff-68c7-4b28-8fe8-0cf2326a18c6"
      },
      "execution_count": 6,
      "outputs": [
        {
          "output_type": "stream",
          "name": "stdout",
          "text": [
            "\u001b[1m1/1\u001b[0m \u001b[32m━━━━━━━━━━━━━━━━━━━━\u001b[0m\u001b[37m\u001b[0m \u001b[1m0s\u001b[0m 184ms/step\n",
            "predicted :  [('n02403003', 'ox', 0.5918517), ('n02123159', 'tiger_cat', 0.06849149), ('n02129604', 'tiger', 0.034695633)]\n"
          ]
        }
      ]
    },
    {
      "cell_type": "markdown",
      "source": [
        "Wrong"
      ],
      "metadata": {
        "id": "YHSvDemL9-Yt"
      }
    },
    {
      "cell_type": "code",
      "source": [
        "img_path = 'cat 2.jfif'\n",
        "img = image.load_img(img_path , target_size = (224 ,224))\n",
        "x = image.img_to_array(img)\n",
        "x = np.expand_dims(x , axis = 0)\n",
        "x = preprocess_input(x)\n",
        "\n",
        "preds = model.predict(x)\n",
        "print('predicted : ' , decode_predictions(preds , top = 3 )[0])"
      ],
      "metadata": {
        "colab": {
          "base_uri": "https://localhost:8080/"
        },
        "id": "dCkiBN3m9VDO",
        "outputId": "95cdd5d4-8a87-4179-e6a7-032d45aac981"
      },
      "execution_count": 7,
      "outputs": [
        {
          "output_type": "stream",
          "name": "stdout",
          "text": [
            "\u001b[1m1/1\u001b[0m \u001b[32m━━━━━━━━━━━━━━━━━━━━\u001b[0m\u001b[37m\u001b[0m \u001b[1m0s\u001b[0m 204ms/step\n",
            "predicted :  [('n02123045', 'tabby', 0.73791564), ('n02124075', 'Egyptian_cat', 0.15666154), ('n02123159', 'tiger_cat', 0.10526208)]\n"
          ]
        }
      ]
    },
    {
      "cell_type": "markdown",
      "source": [
        "Right"
      ],
      "metadata": {
        "id": "Up4Y8nsg-Gqj"
      }
    },
    {
      "cell_type": "code",
      "source": [],
      "metadata": {
        "id": "c-UnelWH9VAm"
      },
      "execution_count": null,
      "outputs": []
    }
  ]
}