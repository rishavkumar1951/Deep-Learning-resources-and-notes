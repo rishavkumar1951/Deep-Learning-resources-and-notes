{
  "nbformat": 4,
  "nbformat_minor": 0,
  "metadata": {
    "colab": {
      "provenance": []
    },
    "kernelspec": {
      "name": "python3",
      "display_name": "Python 3"
    },
    "language_info": {
      "name": "python"
    }
  },
  "cells": [
    {
      "cell_type": "code",
      "source": [
        "import time"
      ],
      "metadata": {
        "id": "lWnSJfwDh-hV"
      },
      "execution_count": null,
      "outputs": []
    },
    {
      "cell_type": "code",
      "execution_count": 1,
      "metadata": {
        "id": "najEk9BRgf_y"
      },
      "outputs": [],
      "source": [
        "def fib(n):\n",
        "  if n == 0 or n == 1 :\n",
        "    return 1\n",
        "  else :\n",
        "    return fib(n-1) + fib(n-2)"
      ]
    },
    {
      "cell_type": "code",
      "source": [
        "start = time.time()\n",
        "print(fib(40))\n",
        "time.time() - start"
      ],
      "metadata": {
        "colab": {
          "base_uri": "https://localhost:8080/"
        },
        "id": "P52havRxgswW",
        "outputId": "ef8858dc-9a6a-4b38-c784-c98471966142"
      },
      "execution_count": 8,
      "outputs": [
        {
          "output_type": "stream",
          "name": "stdout",
          "text": [
            "165580141\n"
          ]
        },
        {
          "output_type": "execute_result",
          "data": {
            "text/plain": [
              "52.6025755405426"
            ]
          },
          "metadata": {},
          "execution_count": 8
        }
      ]
    },
    {
      "cell_type": "markdown",
      "source": [
        "### approach takes 52 seconds to calculate fib of 40 , because of time complexity is exponential ( 2<sup> n</sup>)"
      ],
      "metadata": {
        "id": "RI26UW6HifKY"
      }
    },
    {
      "cell_type": "code",
      "source": [
        "def opt_fib(n , dict):\n",
        "  if n in dict :\n",
        "    return dict[n]\n",
        "  else :\n",
        "    dict[n] = opt_fib(n - 1 , dict) + opt_fib(n - 2 , dict)\n",
        "    return dict[n]"
      ],
      "metadata": {
        "id": "oTeIaRcZguEp"
      },
      "execution_count": 17,
      "outputs": []
    },
    {
      "cell_type": "code",
      "source": [
        "dict = {0:1,1:1}\n",
        "\n",
        "start = time.time()\n",
        "print(opt_fib(40 , dict))\n",
        "time.time() - start"
      ],
      "metadata": {
        "colab": {
          "base_uri": "https://localhost:8080/"
        },
        "id": "AmrczubmhbC4",
        "outputId": "88022df3-7079-4f28-f808-d2cacabb0c35"
      },
      "execution_count": 18,
      "outputs": [
        {
          "output_type": "stream",
          "name": "stdout",
          "text": [
            "165580141\n"
          ]
        },
        {
          "output_type": "execute_result",
          "data": {
            "text/plain": [
              "0.0009377002716064453"
            ]
          },
          "metadata": {},
          "execution_count": 18
        }
      ]
    },
    {
      "cell_type": "markdown",
      "source": [
        "## reduce time by using memory , here calculating only for new values"
      ],
      "metadata": {
        "id": "yUEaxz6Di9Bm"
      }
    },
    {
      "cell_type": "code",
      "source": [],
      "metadata": {
        "id": "8W_-1lpRh6fu"
      },
      "execution_count": null,
      "outputs": []
    }
  ]
}