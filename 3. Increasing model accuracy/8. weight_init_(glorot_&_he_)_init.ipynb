{
  "nbformat": 4,
  "nbformat_minor": 0,
  "metadata": {
    "colab": {
      "provenance": []
    },
    "kernelspec": {
      "name": "python3",
      "display_name": "Python 3"
    },
    "language_info": {
      "name": "python"
    }
  },
  "cells": [
    {
      "cell_type": "code",
      "execution_count": 1,
      "metadata": {
        "id": "cKVzInXrteyO"
      },
      "outputs": [],
      "source": [
        "import numpy as np\n",
        "import pandas as pd\n",
        "import matplotlib.pyplot as plt"
      ]
    },
    {
      "cell_type": "code",
      "source": [
        "df = pd.read_csv('1.ushape.csv')\n",
        "df.shape"
      ],
      "metadata": {
        "id": "l-CtLegnti3_",
        "colab": {
          "base_uri": "https://localhost:8080/"
        },
        "outputId": "6cb10156-59a0-44c3-b22b-800361d3054d"
      },
      "execution_count": 2,
      "outputs": [
        {
          "output_type": "execute_result",
          "data": {
            "text/plain": [
              "(100, 3)"
            ]
          },
          "metadata": {},
          "execution_count": 2
        }
      ]
    },
    {
      "cell_type": "code",
      "source": [
        "df.head()"
      ],
      "metadata": {
        "colab": {
          "base_uri": "https://localhost:8080/",
          "height": 206
        },
        "id": "T9P8j9Ubtt9t",
        "outputId": "6bd0a641-4872-4a29-cadf-2b39b0fc280f"
      },
      "execution_count": 3,
      "outputs": [
        {
          "output_type": "execute_result",
          "data": {
            "text/plain": [
              "        x       y  class\n",
              "0  0.0316  0.9870    0.0\n",
              "1  2.1200 -0.0462    1.0\n",
              "2  0.8820 -0.0758    0.0\n",
              "3 -0.0551 -0.0373    1.0\n",
              "4  0.8300 -0.5390    1.0"
            ],
            "text/html": [
              "\n",
              "  <div id=\"df-6e9aed4d-fbc8-4d67-975f-d5d3e13a901f\" class=\"colab-df-container\">\n",
              "    <div>\n",
              "<style scoped>\n",
              "    .dataframe tbody tr th:only-of-type {\n",
              "        vertical-align: middle;\n",
              "    }\n",
              "\n",
              "    .dataframe tbody tr th {\n",
              "        vertical-align: top;\n",
              "    }\n",
              "\n",
              "    .dataframe thead th {\n",
              "        text-align: right;\n",
              "    }\n",
              "</style>\n",
              "<table border=\"1\" class=\"dataframe\">\n",
              "  <thead>\n",
              "    <tr style=\"text-align: right;\">\n",
              "      <th></th>\n",
              "      <th>x</th>\n",
              "      <th>y</th>\n",
              "      <th>class</th>\n",
              "    </tr>\n",
              "  </thead>\n",
              "  <tbody>\n",
              "    <tr>\n",
              "      <th>0</th>\n",
              "      <td>0.0316</td>\n",
              "      <td>0.9870</td>\n",
              "      <td>0.0</td>\n",
              "    </tr>\n",
              "    <tr>\n",
              "      <th>1</th>\n",
              "      <td>2.1200</td>\n",
              "      <td>-0.0462</td>\n",
              "      <td>1.0</td>\n",
              "    </tr>\n",
              "    <tr>\n",
              "      <th>2</th>\n",
              "      <td>0.8820</td>\n",
              "      <td>-0.0758</td>\n",
              "      <td>0.0</td>\n",
              "    </tr>\n",
              "    <tr>\n",
              "      <th>3</th>\n",
              "      <td>-0.0551</td>\n",
              "      <td>-0.0373</td>\n",
              "      <td>1.0</td>\n",
              "    </tr>\n",
              "    <tr>\n",
              "      <th>4</th>\n",
              "      <td>0.8300</td>\n",
              "      <td>-0.5390</td>\n",
              "      <td>1.0</td>\n",
              "    </tr>\n",
              "  </tbody>\n",
              "</table>\n",
              "</div>\n",
              "    <div class=\"colab-df-buttons\">\n",
              "\n",
              "  <div class=\"colab-df-container\">\n",
              "    <button class=\"colab-df-convert\" onclick=\"convertToInteractive('df-6e9aed4d-fbc8-4d67-975f-d5d3e13a901f')\"\n",
              "            title=\"Convert this dataframe to an interactive table.\"\n",
              "            style=\"display:none;\">\n",
              "\n",
              "  <svg xmlns=\"http://www.w3.org/2000/svg\" height=\"24px\" viewBox=\"0 -960 960 960\">\n",
              "    <path d=\"M120-120v-720h720v720H120Zm60-500h600v-160H180v160Zm220 220h160v-160H400v160Zm0 220h160v-160H400v160ZM180-400h160v-160H180v160Zm440 0h160v-160H620v160ZM180-180h160v-160H180v160Zm440 0h160v-160H620v160Z\"/>\n",
              "  </svg>\n",
              "    </button>\n",
              "\n",
              "  <style>\n",
              "    .colab-df-container {\n",
              "      display:flex;\n",
              "      gap: 12px;\n",
              "    }\n",
              "\n",
              "    .colab-df-convert {\n",
              "      background-color: #E8F0FE;\n",
              "      border: none;\n",
              "      border-radius: 50%;\n",
              "      cursor: pointer;\n",
              "      display: none;\n",
              "      fill: #1967D2;\n",
              "      height: 32px;\n",
              "      padding: 0 0 0 0;\n",
              "      width: 32px;\n",
              "    }\n",
              "\n",
              "    .colab-df-convert:hover {\n",
              "      background-color: #E2EBFA;\n",
              "      box-shadow: 0px 1px 2px rgba(60, 64, 67, 0.3), 0px 1px 3px 1px rgba(60, 64, 67, 0.15);\n",
              "      fill: #174EA6;\n",
              "    }\n",
              "\n",
              "    .colab-df-buttons div {\n",
              "      margin-bottom: 4px;\n",
              "    }\n",
              "\n",
              "    [theme=dark] .colab-df-convert {\n",
              "      background-color: #3B4455;\n",
              "      fill: #D2E3FC;\n",
              "    }\n",
              "\n",
              "    [theme=dark] .colab-df-convert:hover {\n",
              "      background-color: #434B5C;\n",
              "      box-shadow: 0px 1px 3px 1px rgba(0, 0, 0, 0.15);\n",
              "      filter: drop-shadow(0px 1px 2px rgba(0, 0, 0, 0.3));\n",
              "      fill: #FFFFFF;\n",
              "    }\n",
              "  </style>\n",
              "\n",
              "    <script>\n",
              "      const buttonEl =\n",
              "        document.querySelector('#df-6e9aed4d-fbc8-4d67-975f-d5d3e13a901f button.colab-df-convert');\n",
              "      buttonEl.style.display =\n",
              "        google.colab.kernel.accessAllowed ? 'block' : 'none';\n",
              "\n",
              "      async function convertToInteractive(key) {\n",
              "        const element = document.querySelector('#df-6e9aed4d-fbc8-4d67-975f-d5d3e13a901f');\n",
              "        const dataTable =\n",
              "          await google.colab.kernel.invokeFunction('convertToInteractive',\n",
              "                                                    [key], {});\n",
              "        if (!dataTable) return;\n",
              "\n",
              "        const docLinkHtml = 'Like what you see? Visit the ' +\n",
              "          '<a target=\"_blank\" href=https://colab.research.google.com/notebooks/data_table.ipynb>data table notebook</a>'\n",
              "          + ' to learn more about interactive tables.';\n",
              "        element.innerHTML = '';\n",
              "        dataTable['output_type'] = 'display_data';\n",
              "        await google.colab.output.renderOutput(dataTable, element);\n",
              "        const docLink = document.createElement('div');\n",
              "        docLink.innerHTML = docLinkHtml;\n",
              "        element.appendChild(docLink);\n",
              "      }\n",
              "    </script>\n",
              "  </div>\n",
              "\n",
              "\n",
              "<div id=\"df-dadcd8cc-262f-44d9-847f-3e27a9123de6\">\n",
              "  <button class=\"colab-df-quickchart\" onclick=\"quickchart('df-dadcd8cc-262f-44d9-847f-3e27a9123de6')\"\n",
              "            title=\"Suggest charts\"\n",
              "            style=\"display:none;\">\n",
              "\n",
              "<svg xmlns=\"http://www.w3.org/2000/svg\" height=\"24px\"viewBox=\"0 0 24 24\"\n",
              "     width=\"24px\">\n",
              "    <g>\n",
              "        <path d=\"M19 3H5c-1.1 0-2 .9-2 2v14c0 1.1.9 2 2 2h14c1.1 0 2-.9 2-2V5c0-1.1-.9-2-2-2zM9 17H7v-7h2v7zm4 0h-2V7h2v10zm4 0h-2v-4h2v4z\"/>\n",
              "    </g>\n",
              "</svg>\n",
              "  </button>\n",
              "\n",
              "<style>\n",
              "  .colab-df-quickchart {\n",
              "      --bg-color: #E8F0FE;\n",
              "      --fill-color: #1967D2;\n",
              "      --hover-bg-color: #E2EBFA;\n",
              "      --hover-fill-color: #174EA6;\n",
              "      --disabled-fill-color: #AAA;\n",
              "      --disabled-bg-color: #DDD;\n",
              "  }\n",
              "\n",
              "  [theme=dark] .colab-df-quickchart {\n",
              "      --bg-color: #3B4455;\n",
              "      --fill-color: #D2E3FC;\n",
              "      --hover-bg-color: #434B5C;\n",
              "      --hover-fill-color: #FFFFFF;\n",
              "      --disabled-bg-color: #3B4455;\n",
              "      --disabled-fill-color: #666;\n",
              "  }\n",
              "\n",
              "  .colab-df-quickchart {\n",
              "    background-color: var(--bg-color);\n",
              "    border: none;\n",
              "    border-radius: 50%;\n",
              "    cursor: pointer;\n",
              "    display: none;\n",
              "    fill: var(--fill-color);\n",
              "    height: 32px;\n",
              "    padding: 0;\n",
              "    width: 32px;\n",
              "  }\n",
              "\n",
              "  .colab-df-quickchart:hover {\n",
              "    background-color: var(--hover-bg-color);\n",
              "    box-shadow: 0 1px 2px rgba(60, 64, 67, 0.3), 0 1px 3px 1px rgba(60, 64, 67, 0.15);\n",
              "    fill: var(--button-hover-fill-color);\n",
              "  }\n",
              "\n",
              "  .colab-df-quickchart-complete:disabled,\n",
              "  .colab-df-quickchart-complete:disabled:hover {\n",
              "    background-color: var(--disabled-bg-color);\n",
              "    fill: var(--disabled-fill-color);\n",
              "    box-shadow: none;\n",
              "  }\n",
              "\n",
              "  .colab-df-spinner {\n",
              "    border: 2px solid var(--fill-color);\n",
              "    border-color: transparent;\n",
              "    border-bottom-color: var(--fill-color);\n",
              "    animation:\n",
              "      spin 1s steps(1) infinite;\n",
              "  }\n",
              "\n",
              "  @keyframes spin {\n",
              "    0% {\n",
              "      border-color: transparent;\n",
              "      border-bottom-color: var(--fill-color);\n",
              "      border-left-color: var(--fill-color);\n",
              "    }\n",
              "    20% {\n",
              "      border-color: transparent;\n",
              "      border-left-color: var(--fill-color);\n",
              "      border-top-color: var(--fill-color);\n",
              "    }\n",
              "    30% {\n",
              "      border-color: transparent;\n",
              "      border-left-color: var(--fill-color);\n",
              "      border-top-color: var(--fill-color);\n",
              "      border-right-color: var(--fill-color);\n",
              "    }\n",
              "    40% {\n",
              "      border-color: transparent;\n",
              "      border-right-color: var(--fill-color);\n",
              "      border-top-color: var(--fill-color);\n",
              "    }\n",
              "    60% {\n",
              "      border-color: transparent;\n",
              "      border-right-color: var(--fill-color);\n",
              "    }\n",
              "    80% {\n",
              "      border-color: transparent;\n",
              "      border-right-color: var(--fill-color);\n",
              "      border-bottom-color: var(--fill-color);\n",
              "    }\n",
              "    90% {\n",
              "      border-color: transparent;\n",
              "      border-bottom-color: var(--fill-color);\n",
              "    }\n",
              "  }\n",
              "</style>\n",
              "\n",
              "  <script>\n",
              "    async function quickchart(key) {\n",
              "      const quickchartButtonEl =\n",
              "        document.querySelector('#' + key + ' button');\n",
              "      quickchartButtonEl.disabled = true;  // To prevent multiple clicks.\n",
              "      quickchartButtonEl.classList.add('colab-df-spinner');\n",
              "      try {\n",
              "        const charts = await google.colab.kernel.invokeFunction(\n",
              "            'suggestCharts', [key], {});\n",
              "      } catch (error) {\n",
              "        console.error('Error during call to suggestCharts:', error);\n",
              "      }\n",
              "      quickchartButtonEl.classList.remove('colab-df-spinner');\n",
              "      quickchartButtonEl.classList.add('colab-df-quickchart-complete');\n",
              "    }\n",
              "    (() => {\n",
              "      let quickchartButtonEl =\n",
              "        document.querySelector('#df-dadcd8cc-262f-44d9-847f-3e27a9123de6 button');\n",
              "      quickchartButtonEl.style.display =\n",
              "        google.colab.kernel.accessAllowed ? 'block' : 'none';\n",
              "    })();\n",
              "  </script>\n",
              "</div>\n",
              "\n",
              "    </div>\n",
              "  </div>\n"
            ],
            "application/vnd.google.colaboratory.intrinsic+json": {
              "type": "dataframe",
              "variable_name": "df",
              "summary": "{\n  \"name\": \"df\",\n  \"rows\": 100,\n  \"fields\": [\n    {\n      \"column\": \"x\",\n      \"properties\": {\n        \"dtype\": \"number\",\n        \"std\": 0.8912634114247283,\n        \"min\": -1.32,\n        \"max\": 2.18,\n        \"num_unique_values\": 97,\n        \"samples\": [\n          0.127,\n          1.52,\n          0.219\n        ],\n        \"semantic_type\": \"\",\n        \"description\": \"\"\n      }\n    },\n    {\n      \"column\": \"y\",\n      \"properties\": {\n        \"dtype\": \"number\",\n        \"std\": 0.593023306337989,\n        \"min\": -1.04,\n        \"max\": 1.57,\n        \"num_unique_values\": 98,\n        \"samples\": [\n          -0.38,\n          -0.394,\n          -0.653\n        ],\n        \"semantic_type\": \"\",\n        \"description\": \"\"\n      }\n    },\n    {\n      \"column\": \"class\",\n      \"properties\": {\n        \"dtype\": \"number\",\n        \"std\": 0.502518907629606,\n        \"min\": 0.0,\n        \"max\": 1.0,\n        \"num_unique_values\": 2,\n        \"samples\": [\n          1.0,\n          0.0\n        ],\n        \"semantic_type\": \"\",\n        \"description\": \"\"\n      }\n    }\n  ]\n}"
            }
          },
          "metadata": {},
          "execution_count": 3
        }
      ]
    },
    {
      "cell_type": "code",
      "source": [
        "plt.scatter(df['x'],df['y'],c=df['class'])"
      ],
      "metadata": {
        "colab": {
          "base_uri": "https://localhost:8080/",
          "height": 448
        },
        "id": "ZuYqGD_mtuQG",
        "outputId": "4bb4e950-f89f-4e72-d34e-a5e35e1fc6ef"
      },
      "execution_count": 4,
      "outputs": [
        {
          "output_type": "execute_result",
          "data": {
            "text/plain": [
              "<matplotlib.collections.PathCollection at 0x7cd367c32aa0>"
            ]
          },
          "metadata": {},
          "execution_count": 4
        },
        {
          "output_type": "display_data",
          "data": {
            "text/plain": [
              "<Figure size 640x480 with 1 Axes>"
            ],
            "image/png": "[encoded data removed]"
          },
          "metadata": {}
        }
      ]
    },
    {
      "cell_type": "code",
      "source": [
        "X = df.iloc[:,0:2].values\n",
        "y = df.iloc[:,-1].values"
      ],
      "metadata": {
        "id": "nwXuHnqhtwEJ"
      },
      "execution_count": 5,
      "outputs": []
    },
    {
      "cell_type": "markdown",
      "source": [
        "# model building"
      ],
      "metadata": {
        "id": "oDjlcPM3JoIX"
      }
    },
    {
      "cell_type": "code",
      "source": [
        "import tensorflow\n",
        "from tensorflow import keras\n",
        "from keras import Sequential\n",
        "from keras.layers import Dense"
      ],
      "metadata": {
        "id": "ylDVIM8Ltx0H"
      },
      "execution_count": 6,
      "outputs": []
    },
    {
      "cell_type": "markdown",
      "source": [
        "kernal_initializer = ['he_normal' , 'he_uniform' , 'glorot_normal','glorot_uniform']"
      ],
      "metadata": {
        "id": "x3TO3OXjL64p"
      }
    },
    {
      "cell_type": "code",
      "source": [
        "model = Sequential()\n",
        "\n",
        "model.add(Dense(10,activation='relu',input_dim=2,kernel_initializer='he_normal'))\n",
        "model.add(Dense(10,activation='relu',kernel_initializer='he_normal'))\n",
        "model.add(Dense(10,activation='relu',kernel_initializer='he_normal'))\n",
        "model.add(Dense(10,activation='relu',kernel_initializer='he_normal'))\n",
        "model.add(Dense(1,activation='sigmoid'))\n",
        "\n",
        "model.summary()"
      ],
      "metadata": {
        "colab": {
          "base_uri": "https://localhost:8080/",
          "height": 300
        },
        "id": "id8rhK5OtzVX",
        "outputId": "dfd17ed6-de7d-4f7f-88dc-21443f66156c"
      },
      "execution_count": 8,
      "outputs": [
        {
          "output_type": "display_data",
          "data": {
            "text/plain": [
              "\u001b[1mModel: \"sequential_1\"\u001b[0m\n"
            ],
            "text/html": [
              "<pre style=\"white-space:pre;overflow-x:auto;line-height:normal;font-family:Menlo,'DejaVu Sans Mono',consolas,'Courier New',monospace\"><span style=\"font-weight: bold\">Model: \"sequential_1\"</span>\n",
              "</pre>\n"
            ]
          },
          "metadata": {}
        },
        {
          "output_type": "display_data",
          "data": {
            "text/plain": [
              "┏━━━━━━━━━━━━━━━━━━━━━━━━━━━━━━━━━━━━━━┳━━━━━━━━━━━━━━━━━━━━━━━━━━━━━┳━━━━━━━━━━━━━━━━━┓\n",
              "┃\u001b[1m \u001b[0m\u001b[1mLayer (type)                        \u001b[0m\u001b[1m \u001b[0m┃\u001b[1m \u001b[0m\u001b[1mOutput Shape               \u001b[0m\u001b[1m \u001b[0m┃\u001b[1m \u001b[0m\u001b[1m        Param #\u001b[0m\u001b[1m \u001b[0m┃\n",
              "┡━━━━━━━━━━━━━━━━━━━━━━━━━━━━━━━━━━━━━━╇━━━━━━━━━━━━━━━━━━━━━━━━━━━━━╇━━━━━━━━━━━━━━━━━┩\n",
              "│ dense_5 (\u001b[38;5;33mDense\u001b[0m)                      │ (\u001b[38;5;45mNone\u001b[0m, \u001b[38;5;34m10\u001b[0m)                  │              \u001b[38;5;34m30\u001b[0m │\n",
              "├──────────────────────────────────────┼─────────────────────────────┼─────────────────┤\n",
              "│ dense_6 (\u001b[38;5;33mDense\u001b[0m)                      │ (\u001b[38;5;45mNone\u001b[0m, \u001b[38;5;34m10\u001b[0m)                  │             \u001b[38;5;34m110\u001b[0m │\n",
              "├──────────────────────────────────────┼─────────────────────────────┼─────────────────┤\n",
              "│ dense_7 (\u001b[38;5;33mDense\u001b[0m)                      │ (\u001b[38;5;45mNone\u001b[0m, \u001b[38;5;34m10\u001b[0m)                  │             \u001b[38;5;34m110\u001b[0m │\n",
              "├──────────────────────────────────────┼─────────────────────────────┼─────────────────┤\n",
              "│ dense_8 (\u001b[38;5;33mDense\u001b[0m)                      │ (\u001b[38;5;45mNone\u001b[0m, \u001b[38;5;34m10\u001b[0m)                  │             \u001b[38;5;34m110\u001b[0m │\n",
              "├──────────────────────────────────────┼─────────────────────────────┼─────────────────┤\n",
              "│ dense_9 (\u001b[38;5;33mDense\u001b[0m)                      │ (\u001b[38;5;45mNone\u001b[0m, \u001b[38;5;34m1\u001b[0m)                   │              \u001b[38;5;34m11\u001b[0m │\n",
              "└──────────────────────────────────────┴─────────────────────────────┴─────────────────┘\n"
            ],
            "text/html": [
              "<pre style=\"white-space:pre;overflow-x:auto;line-height:normal;font-family:Menlo,'DejaVu Sans Mono',consolas,'Courier New',monospace\">┏━━━━━━━━━━━━━━━━━━━━━━━━━━━━━━━━━━━━━━┳━━━━━━━━━━━━━━━━━━━━━━━━━━━━━┳━━━━━━━━━━━━━━━━━┓\n",
              "┃<span style=\"font-weight: bold\"> Layer (type)                         </span>┃<span style=\"font-weight: bold\"> Output Shape                </span>┃<span style=\"font-weight: bold\">         Param # </span>┃\n",
              "┡━━━━━━━━━━━━━━━━━━━━━━━━━━━━━━━━━━━━━━╇━━━━━━━━━━━━━━━━━━━━━━━━━━━━━╇━━━━━━━━━━━━━━━━━┩\n",
              "│ dense_5 (<span style=\"color: #0087ff; text-decoration-color: #0087ff\">Dense</span>)                      │ (<span style=\"color: #00d7ff; text-decoration-color: #00d7ff\">None</span>, <span style=\"color: #00af00; text-decoration-color: #00af00\">10</span>)                  │              <span style=\"color: #00af00; text-decoration-color: #00af00\">30</span> │\n",
              "├──────────────────────────────────────┼─────────────────────────────┼─────────────────┤\n",
              "│ dense_6 (<span style=\"color: #0087ff; text-decoration-color: #0087ff\">Dense</span>)                      │ (<span style=\"color: #00d7ff; text-decoration-color: #00d7ff\">None</span>, <span style=\"color: #00af00; text-decoration-color: #00af00\">10</span>)                  │             <span style=\"color: #00af00; text-decoration-color: #00af00\">110</span> │\n",
              "├──────────────────────────────────────┼─────────────────────────────┼─────────────────┤\n",
              "│ dense_7 (<span style=\"color: #0087ff; text-decoration-color: #0087ff\">Dense</span>)                      │ (<span style=\"color: #00d7ff; text-decoration-color: #00d7ff\">None</span>, <span style=\"color: #00af00; text-decoration-color: #00af00\">10</span>)                  │             <span style=\"color: #00af00; text-decoration-color: #00af00\">110</span> │\n",
              "├──────────────────────────────────────┼─────────────────────────────┼─────────────────┤\n",
              "│ dense_8 (<span style=\"color: #0087ff; text-decoration-color: #0087ff\">Dense</span>)                      │ (<span style=\"color: #00d7ff; text-decoration-color: #00d7ff\">None</span>, <span style=\"color: #00af00; text-decoration-color: #00af00\">10</span>)                  │             <span style=\"color: #00af00; text-decoration-color: #00af00\">110</span> │\n",
              "├──────────────────────────────────────┼─────────────────────────────┼─────────────────┤\n",
              "│ dense_9 (<span style=\"color: #0087ff; text-decoration-color: #0087ff\">Dense</span>)                      │ (<span style=\"color: #00d7ff; text-decoration-color: #00d7ff\">None</span>, <span style=\"color: #00af00; text-decoration-color: #00af00\">1</span>)                   │              <span style=\"color: #00af00; text-decoration-color: #00af00\">11</span> │\n",
              "└──────────────────────────────────────┴─────────────────────────────┴─────────────────┘\n",
              "</pre>\n"
            ]
          },
          "metadata": {}
        },
        {
          "output_type": "display_data",
          "data": {
            "text/plain": [
              "\u001b[1m Total params: \u001b[0m\u001b[38;5;34m371\u001b[0m (1.45 KB)\n"
            ],
            "text/html": [
              "<pre style=\"white-space:pre;overflow-x:auto;line-height:normal;font-family:Menlo,'DejaVu Sans Mono',consolas,'Courier New',monospace\"><span style=\"font-weight: bold\"> Total params: </span><span style=\"color: #00af00; text-decoration-color: #00af00\">371</span> (1.45 KB)\n",
              "</pre>\n"
            ]
          },
          "metadata": {}
        },
        {
          "output_type": "display_data",
          "data": {
            "text/plain": [
              "\u001b[1m Trainable params: \u001b[0m\u001b[38;5;34m371\u001b[0m (1.45 KB)\n"
            ],
            "text/html": [
              "<pre style=\"white-space:pre;overflow-x:auto;line-height:normal;font-family:Menlo,'DejaVu Sans Mono',consolas,'Courier New',monospace\"><span style=\"font-weight: bold\"> Trainable params: </span><span style=\"color: #00af00; text-decoration-color: #00af00\">371</span> (1.45 KB)\n",
              "</pre>\n"
            ]
          },
          "metadata": {}
        },
        {
          "output_type": "display_data",
          "data": {
            "text/plain": [
              "\u001b[1m Non-trainable params: \u001b[0m\u001b[38;5;34m0\u001b[0m (0.00 B)\n"
            ],
            "text/html": [
              "<pre style=\"white-space:pre;overflow-x:auto;line-height:normal;font-family:Menlo,'DejaVu Sans Mono',consolas,'Courier New',monospace\"><span style=\"font-weight: bold\"> Non-trainable params: </span><span style=\"color: #00af00; text-decoration-color: #00af00\">0</span> (0.00 B)\n",
              "</pre>\n"
            ]
          },
          "metadata": {}
        }
      ]
    },
    {
      "cell_type": "code",
      "source": [
        "model.get_weights()"
      ],
      "metadata": {
        "colab": {
          "base_uri": "https://localhost:8080/"
        },
        "id": "YjST2L1qt1UP",
        "outputId": "4b7e0a82-9dba-409a-a984-3798b51695d7"
      },
      "execution_count": 9,
      "outputs": [
        {
          "output_type": "execute_result",
          "data": {
            "text/plain": [
              "[array([[ 0.26644355,  1.0186021 ,  1.038705  ,  0.79528207,  1.7213656 ,\n",
              "         -1.1483977 , -0.57124317, -1.5121111 , -0.63754517, -0.9112106 ],\n",
              "        [ 0.8813613 , -0.7699522 , -0.23449686, -1.0121334 , -1.1386153 ,\n",
              "         -0.05512203, -0.22018671, -0.69547296,  0.94140625, -0.06393613]],\n",
              "       dtype=float32),\n",
              " array([0., 0., 0., 0., 0., 0., 0., 0., 0., 0.], dtype=float32),\n",
              " array([[-0.22790961, -0.77540094, -0.10143311, -0.48248106,  0.64546585,\n",
              "         -0.5542398 ,  0.00382793, -0.0484523 , -0.15468362,  0.44908655],\n",
              "        [-0.26800886, -0.4230604 , -0.5552095 ,  0.12553605, -0.3675725 ,\n",
              "          0.94751316,  0.50653726, -0.385426  ,  0.14519252, -0.2770176 ],\n",
              "        [ 0.16164061, -0.09183408, -0.08041423,  0.7818691 ,  0.05727607,\n",
              "          0.7474386 , -0.49665883,  0.28805828, -0.4115456 , -0.6372977 ],\n",
              "        [ 0.23650943,  0.39356464, -0.7974862 ,  0.8567388 ,  0.08937206,\n",
              "          0.22787285,  0.48949262, -0.6766231 , -0.47396633,  0.04208907],\n",
              "        [-0.13078658,  0.01992616,  0.34720093,  0.5759589 , -0.5570332 ,\n",
              "          0.6782649 , -0.07501829, -0.3072805 ,  0.6416015 , -0.27216744],\n",
              "        [ 0.30901837,  0.17171311,  0.3732705 , -0.17840001, -0.05917722,\n",
              "         -0.36423823, -0.24418712, -0.5398924 , -0.32476115, -0.53171384],\n",
              "        [ 0.3899732 , -0.6069247 ,  0.35627487, -0.35826418,  0.52922666,\n",
              "          0.43167076, -0.04176397, -0.69261485,  0.39772326,  0.8762994 ],\n",
              "        [ 0.33906162, -0.20548432, -0.48150346,  0.3443791 , -0.30574197,\n",
              "          0.67922175,  0.7825435 ,  0.21197514, -0.15419738, -0.20115176],\n",
              "        [-0.5755875 , -0.38266155,  0.6529848 , -0.4490503 ,  0.83810157,\n",
              "         -0.34807187, -0.16663331,  0.00743723,  0.23835611,  0.7690091 ],\n",
              "        [-0.5302523 ,  0.1037932 , -0.14005695, -0.0080801 , -0.56872267,\n",
              "         -0.27154323,  0.1277261 , -0.13345382,  0.25440684,  0.18971738]],\n",
              "       dtype=float32),\n",
              " array([0., 0., 0., 0., 0., 0., 0., 0., 0., 0.], dtype=float32),\n",
              " array([[ 0.67155737,  0.6219718 , -0.2653737 , -0.37386334,  0.45766926,\n",
              "         -0.63564175, -0.5248865 , -0.510942  , -0.13173538, -0.03596853],\n",
              "        [-0.62232167, -0.33678928,  0.12221598,  0.18423375, -0.78541625,\n",
              "          0.282193  , -0.15784793, -0.6596947 , -0.16369207, -0.40554392],\n",
              "        [-0.13581897, -0.25539505,  0.1870914 , -0.308913  ,  0.74468035,\n",
              "          0.04298641,  0.419429  , -0.25810745,  0.48805353,  0.1139891 ],\n",
              "        [ 0.36815685, -0.2591376 ,  0.01865713,  0.05114306, -0.62058836,\n",
              "         -0.6499764 ,  0.3461218 ,  0.26845554, -0.59120613,  0.5221949 ],\n",
              "        [ 0.18795265,  0.70802355, -0.11261148,  0.21668856,  0.46021873,\n",
              "          0.20697019,  0.5003979 , -0.3141293 ,  0.36230743,  0.34858665],\n",
              "        [-0.82252103,  0.5313488 ,  0.03098474,  0.9883565 ,  0.8558589 ,\n",
              "         -0.6833817 , -0.7528747 , -0.15759207,  0.7821459 , -0.06163725],\n",
              "        [ 0.11666088, -0.2878392 , -0.69185627, -0.55014473,  0.49072394,\n",
              "         -0.23578332,  0.7156052 , -0.78605914,  0.61526006,  0.13158152],\n",
              "        [ 0.32851943, -0.1725498 , -1.0163884 ,  0.49559653, -0.05625179,\n",
              "          0.08445108, -0.75453645,  0.90531653,  0.24304594, -0.0054344 ],\n",
              "        [-0.22910725, -0.26290327, -0.6608698 , -0.06724855,  0.40165326,\n",
              "          0.02193435,  0.10189459,  0.28042537, -0.8393004 ,  0.5358386 ],\n",
              "        [-0.54908633, -0.18586999, -0.13473241,  0.07911815, -0.38623866,\n",
              "         -0.3813334 ,  0.16637775, -0.10938306, -0.26070416,  0.08289869]],\n",
              "       dtype=float32),\n",
              " array([0., 0., 0., 0., 0., 0., 0., 0., 0., 0.], dtype=float32),\n",
              " array([[-0.6824237 ,  0.17521118,  0.14076106,  0.12735273,  0.04275277,\n",
              "         -0.17192024, -0.12046254, -0.379205  , -0.22947253, -0.31394336],\n",
              "        [ 0.2649417 ,  0.6242361 , -0.7848473 , -0.09907631, -0.24800868,\n",
              "          0.35330552,  0.1379715 ,  0.09671558, -0.35309938,  0.3155418 ],\n",
              "        [-0.08688014,  0.12122671,  0.46480313,  0.39751288, -0.03496005,\n",
              "         -0.41223288,  0.11859621,  0.30189285,  0.46912318,  0.07079346],\n",
              "        [-0.17183547,  0.0879397 ,  0.7036736 ,  0.0444052 , -0.16773494,\n",
              "          0.27219045,  0.6708753 ,  0.1410607 , -0.21981536,  0.7911497 ],\n",
              "        [-0.17863   , -0.36659405,  0.2534798 , -0.44053128, -0.29459813,\n",
              "         -0.3841477 , -0.24898145,  0.5345649 ,  0.5367985 , -0.4931628 ],\n",
              "        [ 0.42731923,  0.5871299 ,  0.5034116 ,  0.33161893, -0.03112981,\n",
              "         -0.17668828, -0.68898934,  0.24390738,  0.26457077, -0.52465147],\n",
              "        [-0.75568694, -0.22811127, -0.06090923, -0.28547063, -0.43888456,\n",
              "          0.8367734 ,  0.24798992, -0.82732797, -0.05101679, -0.10172208],\n",
              "        [ 0.2340789 , -0.48193127, -0.58174187, -0.25539383,  0.18971552,\n",
              "         -0.47163612, -0.37598518, -0.14921185, -0.6962221 , -0.06661837],\n",
              "        [-0.34631482,  0.7021139 ,  0.3392564 ,  1.0146873 , -0.09077605,\n",
              "          0.34830368,  0.204287  , -0.46412957, -0.36228782, -0.16413073],\n",
              "        [-0.3209585 ,  0.1512858 ,  0.19056329, -0.32678396, -0.6729664 ,\n",
              "          0.33655643,  0.48106292,  0.25579938, -0.85742974, -0.28593716]],\n",
              "       dtype=float32),\n",
              " array([0., 0., 0., 0., 0., 0., 0., 0., 0., 0.], dtype=float32),\n",
              " array([[-0.24832112],\n",
              "        [ 0.26451498],\n",
              "        [ 0.3061455 ],\n",
              "        [-0.61731875],\n",
              "        [ 0.3922891 ],\n",
              "        [ 0.2773698 ],\n",
              "        [-0.3556806 ],\n",
              "        [ 0.30347437],\n",
              "        [-0.31462723],\n",
              "        [ 0.5834946 ]], dtype=float32),\n",
              " array([0.], dtype=float32)]"
            ]
          },
          "metadata": {},
          "execution_count": 9
        }
      ]
    },
    {
      "cell_type": "markdown",
      "source": [
        "###  setting weight for he normal init formula\n",
        "$$\n",
        "\\sqrt{\\frac{1}{\\text{fan_in}}}\n",
        "$$\n"
      ],
      "metadata": {
        "id": "NSqPjyL_KM4W"
      }
    },
    {
      "cell_type": "code",
      "source": [
        "initial_weights = model.get_weights()\n",
        "\n",
        "initial_weights[0] = np.random.randn(2,10)*np.sqrt(1/2)\n",
        "initial_weights[1] = np.zeros(model.get_weights()[1].shape)\n",
        "initial_weights[2] = np.random.randn(10,10)*np.sqrt(1/10)\n",
        "initial_weights[3] = np.zeros(model.get_weights()[3].shape)\n",
        "initial_weights[4] = np.random.randn(10,10)*np.sqrt(1/10)\n",
        "initial_weights[5] = np.zeros(model.get_weights()[5].shape)\n",
        "initial_weights[6] = np.random.randn(10,10)*np.sqrt(1/10)\n",
        "initial_weights[7] = np.zeros(model.get_weights()[7].shape)\n",
        "initial_weights[8] = np.random.randn(10,1)*np.sqrt(1/10)\n",
        "initial_weights[9] = np.zeros(model.get_weights()[9].shape)"
      ],
      "metadata": {
        "id": "T6mklkSot6GI"
      },
      "execution_count": 11,
      "outputs": []
    },
    {
      "cell_type": "code",
      "source": [
        "model.set_weights(initial_weights)"
      ],
      "metadata": {
        "id": "cnoX9yK8ueEM"
      },
      "execution_count": 12,
      "outputs": []
    },
    {
      "cell_type": "code",
      "source": [
        "model.get_weights()"
      ],
      "metadata": {
        "colab": {
          "base_uri": "https://localhost:8080/"
        },
        "id": "1guey_KUujTP",
        "outputId": "6d741865-6b07-4a12-ed5a-5cc4025ebf22"
      },
      "execution_count": 13,
      "outputs": [
        {
          "output_type": "execute_result",
          "data": {
            "text/plain": [
              "[array([[-0.6523343 ,  0.24767327,  0.01079283,  0.68447375, -0.22928824,\n",
              "          0.3806621 ,  0.73724794, -0.97396743,  0.5998413 ,  0.829726  ],\n",
              "        [ 1.4394914 , -0.85341007,  0.63458055,  0.0309748 , -0.97625124,\n",
              "         -0.54671   , -0.40864184,  1.5124286 , -0.45551655, -0.20097373]],\n",
              "       dtype=float32),\n",
              " array([0., 0., 0., 0., 0., 0., 0., 0., 0., 0.], dtype=float32),\n",
              " array([[-0.00683541,  0.0166891 , -0.01501117,  0.576442  , -0.7921044 ,\n",
              "         -0.04832076,  0.2736779 , -0.4639486 ,  0.20138456, -0.12210742],\n",
              "        [ 0.17301314, -0.5190047 , -0.25429016, -0.11524632,  0.13610889,\n",
              "         -0.27938396, -0.04490427, -0.03755068,  0.6840885 ,  0.00724174],\n",
              "        [ 0.1255945 ,  0.26785952,  0.05082788,  0.21763656,  0.0615989 ,\n",
              "          0.26477388,  0.3831753 ,  0.3108121 , -0.31531066, -0.51952916],\n",
              "        [ 0.45971006,  0.06071572,  0.1358856 , -0.1329894 ,  0.14062645,\n",
              "          0.31035906,  0.45861235,  0.08013275, -0.14921543,  0.05103128],\n",
              "        [ 0.42066276,  0.30856374,  0.22380318, -0.5133298 ,  0.747958  ,\n",
              "          0.28488734, -0.3015219 ,  0.05788096, -0.06966465, -0.34476045],\n",
              "        [-0.24844986, -0.34863025, -0.1461317 , -0.55182743,  0.46370086,\n",
              "         -0.06981897,  0.4338097 ,  0.0825405 ,  0.32368693,  0.27099344],\n",
              "        [ 0.04944895, -0.4617574 , -0.22100222,  0.07899427, -0.12935825,\n",
              "          0.26470897,  0.28729108,  0.11453348, -0.03195625,  0.02732272],\n",
              "        [ 0.5555939 , -0.02009805, -0.6945557 , -0.02182257, -0.14166276,\n",
              "         -0.1356359 , -0.80600876, -0.4196323 , -0.03488003, -0.19430983],\n",
              "        [ 0.29068732, -0.19848906, -0.27257207, -0.17701913,  0.0078388 ,\n",
              "         -0.10513593,  0.31141436, -0.19458713, -0.17041999,  0.1149004 ],\n",
              "        [ 0.3770864 ,  0.41747165,  0.13963923,  0.10799872, -0.22856463,\n",
              "          0.11080169, -0.1134713 ,  0.3834575 , -0.26409122, -0.2041266 ]],\n",
              "       dtype=float32),\n",
              " array([0., 0., 0., 0., 0., 0., 0., 0., 0., 0.], dtype=float32),\n",
              " array([[ 0.34420392,  0.15476994,  0.24946293, -0.3544343 , -0.28215948,\n",
              "          0.6314764 , -0.29396114,  0.10555923,  0.22300796, -0.29110724],\n",
              "        [ 0.07938556,  0.2909359 , -0.23669305, -0.29967073,  0.2916681 ,\n",
              "          0.21905375,  0.27519816,  0.42464492, -0.18261094, -0.08090198],\n",
              "        [-0.0911204 , -0.3375634 , -0.9044193 ,  0.4063902 ,  0.60598516,\n",
              "          0.2147497 ,  0.8142552 ,  0.0876434 , -0.01088552,  0.10090049],\n",
              "        [ 0.11554492,  0.2012822 ,  0.06908815,  0.1920589 , -0.06436177,\n",
              "         -0.3619241 , -0.01322341, -0.2703913 ,  0.42146242, -0.3872456 ],\n",
              "        [ 0.25276548, -0.44683287, -0.34039265, -0.11205361, -0.4101192 ,\n",
              "         -0.30024514, -0.10328194, -0.05334181,  0.32295185, -0.0144947 ],\n",
              "        [-0.3741273 , -0.25860694, -0.31833893,  0.47878066, -0.22822227,\n",
              "         -0.7852459 ,  0.11100236, -0.4439074 , -0.09459671,  0.13070004],\n",
              "        [-0.10523444,  0.08251908, -0.14235726,  0.30693284, -0.17024909,\n",
              "          0.07510609, -0.5575424 ,  0.02915623,  0.06063586,  0.491296  ],\n",
              "        [ 0.04929856, -0.04146937,  0.20163473, -0.29718205, -0.6515294 ,\n",
              "          0.22638959, -0.7218049 ,  0.03027674, -0.0312891 ,  0.2150058 ],\n",
              "        [ 0.12062626, -0.11386927, -0.2240836 ,  0.10111196,  0.4031777 ,\n",
              "          0.31142938,  0.2188393 , -0.14878139,  0.29115686, -0.13242225],\n",
              "        [-0.4109543 ,  0.28783908, -0.36800608, -0.6025478 , -0.589813  ,\n",
              "          0.25268608, -0.4977082 , -0.00169753, -0.18657888,  0.1188712 ]],\n",
              "       dtype=float32),\n",
              " array([0., 0., 0., 0., 0., 0., 0., 0., 0., 0.], dtype=float32),\n",
              " array([[ 0.004109  , -0.46250117, -0.01518233,  0.11767417,  0.14913261,\n",
              "         -0.25276572, -0.01755489,  0.5455816 ,  0.22475415,  0.00743448],\n",
              "        [-0.06885339,  0.541045  , -0.22933017, -0.32318854,  0.26105192,\n",
              "         -0.13645104, -0.11360057,  0.34525764,  0.2675841 ,  0.3204411 ],\n",
              "        [ 0.17178492,  0.4456154 , -0.80996335, -0.03188326,  0.09313108,\n",
              "          0.51063246, -0.12881221, -0.09891509, -0.0729818 ,  0.17847292],\n",
              "        [ 0.25558892,  0.12158464,  0.22560881, -0.10451022,  0.35067138,\n",
              "          0.0319507 ,  0.19634834,  0.18100007,  0.1602733 ,  0.20519271],\n",
              "        [ 0.492742  , -0.8365165 ,  0.27865556,  0.10644515, -0.34447002,\n",
              "          0.0593473 ,  0.7002276 , -0.356954  , -0.1457843 ,  0.25862285],\n",
              "        [ 0.16415054, -0.21243733, -0.17417943, -0.2085728 ,  0.31672388,\n",
              "         -0.02581832,  0.48794958,  0.43468133,  0.07247581, -0.12673739],\n",
              "        [ 0.07710785, -0.32598713,  0.10754158, -0.2669069 ,  0.53812844,\n",
              "         -0.07513044,  0.11418669, -0.28216702, -0.33735237, -0.07889426],\n",
              "        [ 0.42529213,  0.03638199,  0.27961892,  0.03059406, -0.35848212,\n",
              "         -0.09043121, -0.5442659 , -0.04856167, -0.14071098,  0.13292566],\n",
              "        [ 0.01922674,  0.04944788, -0.15886182, -0.2559143 , -0.2210214 ,\n",
              "         -0.13897572, -0.01886196,  0.15614551,  0.07966577,  0.17235348],\n",
              "        [ 0.25060895,  0.07893613, -0.1511794 ,  0.2908825 , -0.14131095,\n",
              "          0.02949154,  0.1199014 , -0.18167126,  0.08353155, -0.04850486]],\n",
              "       dtype=float32),\n",
              " array([0., 0., 0., 0., 0., 0., 0., 0., 0., 0.], dtype=float32),\n",
              " array([[ 0.09315468],\n",
              "        [ 0.18555933],\n",
              "        [ 0.30431858],\n",
              "        [ 0.30127212],\n",
              "        [-0.41608235],\n",
              "        [-0.61263394],\n",
              "        [-0.1653604 ],\n",
              "        [-0.0281745 ],\n",
              "        [ 0.21753167],\n",
              "        [-0.08246592]], dtype=float32),\n",
              " array([0.], dtype=float32)]"
            ]
          },
          "metadata": {},
          "execution_count": 13
        }
      ]
    },
    {
      "cell_type": "code",
      "source": [
        "model.compile(loss='binary_crossentropy',optimizer='adam',metrics=['accuracy'])"
      ],
      "metadata": {
        "id": "bjAyhD8mulGG"
      },
      "execution_count": 14,
      "outputs": []
    },
    {
      "cell_type": "code",
      "source": [
        "history = model.fit(X,y,epochs=100,validation_split=0.2)"
      ],
      "metadata": {
        "colab": {
          "base_uri": "https://localhost:8080/"
        },
        "id": "H1wa0jCaun8z",
        "outputId": "c38b8051-7510-443e-f5a0-4a96fe6129da"
      },
      "execution_count": 15,
      "outputs": [
        {
          "output_type": "stream",
          "name": "stdout",
          "text": [
            "Epoch 1/100\n",
            "\u001b[1m3/3\u001b[0m \u001b[32m━━━━━━━━━━━━━━━━━━━━\u001b[0m\u001b[37m\u001b[0m \u001b[1m2s\u001b[0m 110ms/step - accuracy: 0.5102 - loss: 0.6945 - val_accuracy: 0.4500 - val_loss: 0.6879\n",
            "Epoch 2/100\n",
            "\u001b[1m3/3\u001b[0m \u001b[32m━━━━━━━━━━━━━━━━━━━━\u001b[0m\u001b[37m\u001b[0m \u001b[1m0s\u001b[0m 15ms/step - accuracy: 0.4891 - loss: 0.6902 - val_accuracy: 0.5000 - val_loss: 0.6833\n",
            "Epoch 3/100\n",
            "\u001b[1m3/3\u001b[0m \u001b[32m━━━━━━━━━━━━━━━━━━━━\u001b[0m\u001b[37m\u001b[0m \u001b[1m0s\u001b[0m 17ms/step - accuracy: 0.5609 - loss: 0.6850 - val_accuracy: 0.7000 - val_loss: 0.6790\n",
            "Epoch 4/100\n",
            "\u001b[1m3/3\u001b[0m \u001b[32m━━━━━━━━━━━━━━━━━━━━\u001b[0m\u001b[37m\u001b[0m \u001b[1m0s\u001b[0m 16ms/step - accuracy: 0.7898 - loss: 0.6809 - val_accuracy: 0.8000 - val_loss: 0.6756\n",
            "Epoch 5/100\n",
            "\u001b[1m3/3\u001b[0m \u001b[32m━━━━━━━━━━━━━━━━━━━━\u001b[0m\u001b[37m\u001b[0m \u001b[1m0s\u001b[0m 17ms/step - accuracy: 0.8086 - loss: 0.6778 - val_accuracy: 0.8500 - val_loss: 0.6723\n",
            "Epoch 6/100\n",
            "\u001b[1m3/3\u001b[0m \u001b[32m━━━━━━━━━━━━━━━━━━━━\u001b[0m\u001b[37m\u001b[0m \u001b[1m0s\u001b[0m 15ms/step - accuracy: 0.8344 - loss: 0.6748 - val_accuracy: 0.8500 - val_loss: 0.6683\n",
            "Epoch 7/100\n",
            "\u001b[1m3/3\u001b[0m \u001b[32m━━━━━━━━━━━━━━━━━━━━\u001b[0m\u001b[37m\u001b[0m \u001b[1m0s\u001b[0m 16ms/step - accuracy: 0.7828 - loss: 0.6729 - val_accuracy: 0.8500 - val_loss: 0.6638\n",
            "Epoch 8/100\n",
            "\u001b[1m3/3\u001b[0m \u001b[32m━━━━━━━━━━━━━━━━━━━━\u001b[0m\u001b[37m\u001b[0m \u001b[1m0s\u001b[0m 18ms/step - accuracy: 0.7984 - loss: 0.6687 - val_accuracy: 0.8500 - val_loss: 0.6588\n",
            "Epoch 9/100\n",
            "\u001b[1m3/3\u001b[0m \u001b[32m━━━━━━━━━━━━━━━━━━━━\u001b[0m\u001b[37m\u001b[0m \u001b[1m0s\u001b[0m 16ms/step - accuracy: 0.7906 - loss: 0.6663 - val_accuracy: 0.8500 - val_loss: 0.6535\n",
            "Epoch 10/100\n",
            "\u001b[1m3/3\u001b[0m \u001b[32m━━━━━━━━━━━━━━━━━━━━\u001b[0m\u001b[37m\u001b[0m \u001b[1m0s\u001b[0m 16ms/step - accuracy: 0.7984 - loss: 0.6602 - val_accuracy: 0.8500 - val_loss: 0.6476\n",
            "Epoch 11/100\n",
            "\u001b[1m3/3\u001b[0m \u001b[32m━━━━━━━━━━━━━━━━━━━━\u001b[0m\u001b[37m\u001b[0m \u001b[1m0s\u001b[0m 16ms/step - accuracy: 0.8180 - loss: 0.6533 - val_accuracy: 0.8500 - val_loss: 0.6414\n",
            "Epoch 12/100\n",
            "\u001b[1m3/3\u001b[0m \u001b[32m━━━━━━━━━━━━━━━━━━━━\u001b[0m\u001b[37m\u001b[0m \u001b[1m0s\u001b[0m 16ms/step - accuracy: 0.7984 - loss: 0.6488 - val_accuracy: 0.8500 - val_loss: 0.6351\n",
            "Epoch 13/100\n",
            "\u001b[1m3/3\u001b[0m \u001b[32m━━━━━━━━━━━━━━━━━━━━\u001b[0m\u001b[37m\u001b[0m \u001b[1m0s\u001b[0m 16ms/step - accuracy: 0.8141 - loss: 0.6389 - val_accuracy: 0.8500 - val_loss: 0.6284\n",
            "Epoch 14/100\n",
            "\u001b[1m3/3\u001b[0m \u001b[32m━━━━━━━━━━━━━━━━━━━━\u001b[0m\u001b[37m\u001b[0m \u001b[1m0s\u001b[0m 16ms/step - accuracy: 0.7906 - loss: 0.6379 - val_accuracy: 0.8500 - val_loss: 0.6213\n",
            "Epoch 15/100\n",
            "\u001b[1m3/3\u001b[0m \u001b[32m━━━━━━━━━━━━━━━━━━━━\u001b[0m\u001b[37m\u001b[0m \u001b[1m0s\u001b[0m 15ms/step - accuracy: 0.7984 - loss: 0.6300 - val_accuracy: 0.8500 - val_loss: 0.6139\n",
            "Epoch 16/100\n",
            "\u001b[1m3/3\u001b[0m \u001b[32m━━━━━━━━━━━━━━━━━━━━\u001b[0m\u001b[37m\u001b[0m \u001b[1m0s\u001b[0m 17ms/step - accuracy: 0.8023 - loss: 0.6254 - val_accuracy: 0.8500 - val_loss: 0.6060\n",
            "Epoch 17/100\n",
            "\u001b[1m3/3\u001b[0m \u001b[32m━━━━━━━━━━━━━━━━━━━━\u001b[0m\u001b[37m\u001b[0m \u001b[1m0s\u001b[0m 20ms/step - accuracy: 0.7945 - loss: 0.6163 - val_accuracy: 0.8500 - val_loss: 0.5979\n",
            "Epoch 18/100\n",
            "\u001b[1m3/3\u001b[0m \u001b[32m━━━━━━━━━━━━━━━━━━━━\u001b[0m\u001b[37m\u001b[0m \u001b[1m0s\u001b[0m 15ms/step - accuracy: 0.8141 - loss: 0.6047 - val_accuracy: 0.8500 - val_loss: 0.5893\n",
            "Epoch 19/100\n",
            "\u001b[1m3/3\u001b[0m \u001b[32m━━━━━━━━━━━━━━━━━━━━\u001b[0m\u001b[37m\u001b[0m \u001b[1m0s\u001b[0m 16ms/step - accuracy: 0.7789 - loss: 0.6025 - val_accuracy: 0.8500 - val_loss: 0.5805\n",
            "Epoch 20/100\n",
            "\u001b[1m3/3\u001b[0m \u001b[32m━━━━━━━━━━━━━━━━━━━━\u001b[0m\u001b[37m\u001b[0m \u001b[1m0s\u001b[0m 17ms/step - accuracy: 0.8102 - loss: 0.5887 - val_accuracy: 0.8500 - val_loss: 0.5715\n",
            "Epoch 21/100\n",
            "\u001b[1m3/3\u001b[0m \u001b[32m━━━━━━━━━━━━━━━━━━━━\u001b[0m\u001b[37m\u001b[0m \u001b[1m0s\u001b[0m 16ms/step - accuracy: 0.8203 - loss: 0.5843 - val_accuracy: 0.8500 - val_loss: 0.5623\n",
            "Epoch 22/100\n",
            "\u001b[1m3/3\u001b[0m \u001b[32m━━━━━━━━━━━━━━━━━━━━\u001b[0m\u001b[37m\u001b[0m \u001b[1m0s\u001b[0m 15ms/step - accuracy: 0.8203 - loss: 0.5786 - val_accuracy: 0.8500 - val_loss: 0.5528\n",
            "Epoch 23/100\n",
            "\u001b[1m3/3\u001b[0m \u001b[32m━━━━━━━━━━━━━━━━━━━━\u001b[0m\u001b[37m\u001b[0m \u001b[1m0s\u001b[0m 16ms/step - accuracy: 0.7891 - loss: 0.5760 - val_accuracy: 0.8500 - val_loss: 0.5428\n",
            "Epoch 24/100\n",
            "\u001b[1m3/3\u001b[0m \u001b[32m━━━━━━━━━━━━━━━━━━━━\u001b[0m\u001b[37m\u001b[0m \u001b[1m0s\u001b[0m 17ms/step - accuracy: 0.8125 - loss: 0.5615 - val_accuracy: 0.8500 - val_loss: 0.5323\n",
            "Epoch 25/100\n",
            "\u001b[1m3/3\u001b[0m \u001b[32m━━━━━━━━━━━━━━━━━━━━\u001b[0m\u001b[37m\u001b[0m \u001b[1m0s\u001b[0m 15ms/step - accuracy: 0.8125 - loss: 0.5547 - val_accuracy: 0.8500 - val_loss: 0.5215\n",
            "Epoch 26/100\n",
            "\u001b[1m3/3\u001b[0m \u001b[32m━━━━━━━━━━━━━━━━━━━━\u001b[0m\u001b[37m\u001b[0m \u001b[1m0s\u001b[0m 18ms/step - accuracy: 0.8008 - loss: 0.5447 - val_accuracy: 0.8500 - val_loss: 0.5105\n",
            "Epoch 27/100\n",
            "\u001b[1m3/3\u001b[0m \u001b[32m━━━━━━━━━━━━━━━━━━━━\u001b[0m\u001b[37m\u001b[0m \u001b[1m0s\u001b[0m 21ms/step - accuracy: 0.8398 - loss: 0.5193 - val_accuracy: 0.8500 - val_loss: 0.4992\n",
            "Epoch 28/100\n",
            "\u001b[1m3/3\u001b[0m \u001b[32m━━━━━━━━━━━━━━━━━━━━\u001b[0m\u001b[37m\u001b[0m \u001b[1m0s\u001b[0m 15ms/step - accuracy: 0.7891 - loss: 0.5281 - val_accuracy: 0.8500 - val_loss: 0.4882\n",
            "Epoch 29/100\n",
            "\u001b[1m3/3\u001b[0m \u001b[32m━━━━━━━━━━━━━━━━━━━━\u001b[0m\u001b[37m\u001b[0m \u001b[1m0s\u001b[0m 17ms/step - accuracy: 0.8188 - loss: 0.5164 - val_accuracy: 0.8500 - val_loss: 0.4767\n",
            "Epoch 30/100\n",
            "\u001b[1m3/3\u001b[0m \u001b[32m━━━━━━━━━━━━━━━━━━━━\u001b[0m\u001b[37m\u001b[0m \u001b[1m0s\u001b[0m 16ms/step - accuracy: 0.7914 - loss: 0.5220 - val_accuracy: 0.8500 - val_loss: 0.4655\n",
            "Epoch 31/100\n",
            "\u001b[1m3/3\u001b[0m \u001b[32m━━━━━━━━━━━━━━━━━━━━\u001b[0m\u001b[37m\u001b[0m \u001b[1m0s\u001b[0m 15ms/step - accuracy: 0.8188 - loss: 0.4937 - val_accuracy: 0.8500 - val_loss: 0.4537\n",
            "Epoch 32/100\n",
            "\u001b[1m3/3\u001b[0m \u001b[32m━━━━━━━━━━━━━━━━━━━━\u001b[0m\u001b[37m\u001b[0m \u001b[1m0s\u001b[0m 17ms/step - accuracy: 0.8266 - loss: 0.4829 - val_accuracy: 0.8500 - val_loss: 0.4421\n",
            "Epoch 33/100\n",
            "\u001b[1m3/3\u001b[0m \u001b[32m━━━━━━━━━━━━━━━━━━━━\u001b[0m\u001b[37m\u001b[0m \u001b[1m0s\u001b[0m 25ms/step - accuracy: 0.8344 - loss: 0.4607 - val_accuracy: 0.8500 - val_loss: 0.4307\n",
            "Epoch 34/100\n",
            "\u001b[1m3/3\u001b[0m \u001b[32m━━━━━━━━━━━━━━━━━━━━\u001b[0m\u001b[37m\u001b[0m \u001b[1m0s\u001b[0m 21ms/step - accuracy: 0.8188 - loss: 0.4639 - val_accuracy: 0.8500 - val_loss: 0.4193\n",
            "Epoch 35/100\n",
            "\u001b[1m3/3\u001b[0m \u001b[32m━━━━━━━━━━━━━━━━━━━━\u001b[0m\u001b[37m\u001b[0m \u001b[1m0s\u001b[0m 23ms/step - accuracy: 0.8148 - loss: 0.4526 - val_accuracy: 0.8500 - val_loss: 0.4079\n",
            "Epoch 36/100\n",
            "\u001b[1m3/3\u001b[0m \u001b[32m━━━━━━━━━━━━━━━━━━━━\u001b[0m\u001b[37m\u001b[0m \u001b[1m0s\u001b[0m 21ms/step - accuracy: 0.8188 - loss: 0.4630 - val_accuracy: 0.8500 - val_loss: 0.3964\n",
            "Epoch 37/100\n",
            "\u001b[1m3/3\u001b[0m \u001b[32m━━━━━━━━━━━━━━━━━━━━\u001b[0m\u001b[37m\u001b[0m \u001b[1m0s\u001b[0m 32ms/step - accuracy: 0.8266 - loss: 0.4347 - val_accuracy: 0.8500 - val_loss: 0.3853\n",
            "Epoch 38/100\n",
            "\u001b[1m3/3\u001b[0m \u001b[32m━━━━━━━━━━━━━━━━━━━━\u001b[0m\u001b[37m\u001b[0m \u001b[1m0s\u001b[0m 31ms/step - accuracy: 0.8461 - loss: 0.4242 - val_accuracy: 0.8500 - val_loss: 0.3749\n",
            "Epoch 39/100\n",
            "\u001b[1m3/3\u001b[0m \u001b[32m━━━━━━━━━━━━━━━━━━━━\u001b[0m\u001b[37m\u001b[0m \u001b[1m0s\u001b[0m 20ms/step - accuracy: 0.8070 - loss: 0.4347 - val_accuracy: 0.8500 - val_loss: 0.3655\n",
            "Epoch 40/100\n",
            "\u001b[1m3/3\u001b[0m \u001b[32m━━━━━━━━━━━━━━━━━━━━\u001b[0m\u001b[37m\u001b[0m \u001b[1m0s\u001b[0m 21ms/step - accuracy: 0.8070 - loss: 0.4441 - val_accuracy: 0.9000 - val_loss: 0.3569\n",
            "Epoch 41/100\n",
            "\u001b[1m3/3\u001b[0m \u001b[32m━━━━━━━━━━━━━━━━━━━━\u001b[0m\u001b[37m\u001b[0m \u001b[1m0s\u001b[0m 20ms/step - accuracy: 0.8367 - loss: 0.4227 - val_accuracy: 0.9000 - val_loss: 0.3483\n",
            "Epoch 42/100\n",
            "\u001b[1m3/3\u001b[0m \u001b[32m━━━━━━━━━━━━━━━━━━━━\u001b[0m\u001b[37m\u001b[0m \u001b[1m0s\u001b[0m 25ms/step - accuracy: 0.8523 - loss: 0.3867 - val_accuracy: 0.9000 - val_loss: 0.3399\n",
            "Epoch 43/100\n",
            "\u001b[1m3/3\u001b[0m \u001b[32m━━━━━━━━━━━━━━━━━━━━\u001b[0m\u001b[37m\u001b[0m \u001b[1m0s\u001b[0m 34ms/step - accuracy: 0.8250 - loss: 0.4208 - val_accuracy: 0.9000 - val_loss: 0.3326\n",
            "Epoch 44/100\n",
            "\u001b[1m3/3\u001b[0m \u001b[32m━━━━━━━━━━━━━━━━━━━━\u001b[0m\u001b[37m\u001b[0m \u001b[1m0s\u001b[0m 33ms/step - accuracy: 0.8367 - loss: 0.4008 - val_accuracy: 0.9000 - val_loss: 0.3257\n",
            "Epoch 45/100\n",
            "\u001b[1m3/3\u001b[0m \u001b[32m━━━━━━━━━━━━━━━━━━━━\u001b[0m\u001b[37m\u001b[0m \u001b[1m0s\u001b[0m 26ms/step - accuracy: 0.8445 - loss: 0.3970 - val_accuracy: 0.9000 - val_loss: 0.3195\n",
            "Epoch 46/100\n",
            "\u001b[1m3/3\u001b[0m \u001b[32m━━━━━━━━━━━━━━━━━━━━\u001b[0m\u001b[37m\u001b[0m \u001b[1m0s\u001b[0m 25ms/step - accuracy: 0.8430 - loss: 0.3899 - val_accuracy: 0.9000 - val_loss: 0.3135\n",
            "Epoch 47/100\n",
            "\u001b[1m3/3\u001b[0m \u001b[32m━━━━━━━━━━━━━━━━━━━━\u001b[0m\u001b[37m\u001b[0m \u001b[1m0s\u001b[0m 34ms/step - accuracy: 0.8117 - loss: 0.4292 - val_accuracy: 0.9000 - val_loss: 0.3080\n",
            "Epoch 48/100\n",
            "\u001b[1m3/3\u001b[0m \u001b[32m━━━━━━━━━━━━━━━━━━━━\u001b[0m\u001b[37m\u001b[0m \u001b[1m0s\u001b[0m 28ms/step - accuracy: 0.8391 - loss: 0.3964 - val_accuracy: 0.9000 - val_loss: 0.3025\n",
            "Epoch 49/100\n",
            "\u001b[1m3/3\u001b[0m \u001b[32m━━━━━━━━━━━━━━━━━━━━\u001b[0m\u001b[37m\u001b[0m \u001b[1m0s\u001b[0m 25ms/step - accuracy: 0.8352 - loss: 0.3919 - val_accuracy: 0.9000 - val_loss: 0.2973\n",
            "Epoch 50/100\n",
            "\u001b[1m3/3\u001b[0m \u001b[32m━━━━━━━━━━━━━━━━━━━━\u001b[0m\u001b[37m\u001b[0m \u001b[1m0s\u001b[0m 23ms/step - accuracy: 0.8508 - loss: 0.3743 - val_accuracy: 0.9000 - val_loss: 0.2925\n",
            "Epoch 51/100\n",
            "\u001b[1m3/3\u001b[0m \u001b[32m━━━━━━━━━━━━━━━━━━━━\u001b[0m\u001b[37m\u001b[0m \u001b[1m0s\u001b[0m 34ms/step - accuracy: 0.8586 - loss: 0.3509 - val_accuracy: 0.9000 - val_loss: 0.2879\n",
            "Epoch 52/100\n",
            "\u001b[1m3/3\u001b[0m \u001b[32m━━━━━━━━━━━━━━━━━━━━\u001b[0m\u001b[37m\u001b[0m \u001b[1m0s\u001b[0m 28ms/step - accuracy: 0.8195 - loss: 0.4324 - val_accuracy: 0.9000 - val_loss: 0.2850\n",
            "Epoch 53/100\n",
            "\u001b[1m3/3\u001b[0m \u001b[32m━━━━━━━━━━━━━━━━━━━━\u001b[0m\u001b[37m\u001b[0m \u001b[1m0s\u001b[0m 16ms/step - accuracy: 0.8508 - loss: 0.3801 - val_accuracy: 0.9000 - val_loss: 0.2820\n",
            "Epoch 54/100\n",
            "\u001b[1m3/3\u001b[0m \u001b[32m━━━━━━━━━━━━━━━━━━━━\u001b[0m\u001b[37m\u001b[0m \u001b[1m0s\u001b[0m 16ms/step - accuracy: 0.8625 - loss: 0.3592 - val_accuracy: 0.9500 - val_loss: 0.2796\n",
            "Epoch 55/100\n",
            "\u001b[1m3/3\u001b[0m \u001b[32m━━━━━━━━━━━━━━━━━━━━\u001b[0m\u001b[37m\u001b[0m \u001b[1m0s\u001b[0m 16ms/step - accuracy: 0.8430 - loss: 0.3907 - val_accuracy: 0.9500 - val_loss: 0.2774\n",
            "Epoch 56/100\n",
            "\u001b[1m3/3\u001b[0m \u001b[32m━━━━━━━━━━━━━━━━━━━━\u001b[0m\u001b[37m\u001b[0m \u001b[1m0s\u001b[0m 16ms/step - accuracy: 0.8625 - loss: 0.3363 - val_accuracy: 0.9500 - val_loss: 0.2740\n",
            "Epoch 57/100\n",
            "\u001b[1m3/3\u001b[0m \u001b[32m━━━━━━━━━━━━━━━━━━━━\u001b[0m\u001b[37m\u001b[0m \u001b[1m0s\u001b[0m 16ms/step - accuracy: 0.8234 - loss: 0.4131 - val_accuracy: 0.9500 - val_loss: 0.2723\n",
            "Epoch 58/100\n",
            "\u001b[1m3/3\u001b[0m \u001b[32m━━━━━━━━━━━━━━━━━━━━\u001b[0m\u001b[37m\u001b[0m \u001b[1m0s\u001b[0m 17ms/step - accuracy: 0.8586 - loss: 0.3414 - val_accuracy: 0.9500 - val_loss: 0.2696\n",
            "Epoch 59/100\n",
            "\u001b[1m3/3\u001b[0m \u001b[32m━━━━━━━━━━━━━━━━━━━━\u001b[0m\u001b[37m\u001b[0m \u001b[1m0s\u001b[0m 16ms/step - accuracy: 0.8484 - loss: 0.3472 - val_accuracy: 0.9000 - val_loss: 0.2674\n",
            "Epoch 60/100\n",
            "\u001b[1m3/3\u001b[0m \u001b[32m━━━━━━━━━━━━━━━━━━━━\u001b[0m\u001b[37m\u001b[0m \u001b[1m0s\u001b[0m 17ms/step - accuracy: 0.8367 - loss: 0.3607 - val_accuracy: 0.8500 - val_loss: 0.2661\n",
            "Epoch 61/100\n",
            "\u001b[1m3/3\u001b[0m \u001b[32m━━━━━━━━━━━━━━━━━━━━\u001b[0m\u001b[37m\u001b[0m \u001b[1m0s\u001b[0m 17ms/step - accuracy: 0.8406 - loss: 0.3608 - val_accuracy: 0.9000 - val_loss: 0.2655\n",
            "Epoch 62/100\n",
            "\u001b[1m3/3\u001b[0m \u001b[32m━━━━━━━━━━━━━━━━━━━━\u001b[0m\u001b[37m\u001b[0m \u001b[1m0s\u001b[0m 16ms/step - accuracy: 0.8680 - loss: 0.3146 - val_accuracy: 0.9000 - val_loss: 0.2645\n",
            "Epoch 63/100\n",
            "\u001b[1m3/3\u001b[0m \u001b[32m━━━━━━━━━━━━━━━━━━━━\u001b[0m\u001b[37m\u001b[0m \u001b[1m0s\u001b[0m 16ms/step - accuracy: 0.8445 - loss: 0.3453 - val_accuracy: 0.9000 - val_loss: 0.2641\n",
            "Epoch 64/100\n",
            "\u001b[1m3/3\u001b[0m \u001b[32m━━━━━━━━━━━━━━━━━━━━\u001b[0m\u001b[37m\u001b[0m \u001b[1m0s\u001b[0m 16ms/step - accuracy: 0.8523 - loss: 0.3436 - val_accuracy: 0.9000 - val_loss: 0.2636\n",
            "Epoch 65/100\n",
            "\u001b[1m3/3\u001b[0m \u001b[32m━━━━━━━━━━━━━━━━━━━━\u001b[0m\u001b[37m\u001b[0m \u001b[1m0s\u001b[0m 16ms/step - accuracy: 0.8406 - loss: 0.3373 - val_accuracy: 0.9000 - val_loss: 0.2627\n",
            "Epoch 66/100\n",
            "\u001b[1m3/3\u001b[0m \u001b[32m━━━━━━━━━━━━━━━━━━━━\u001b[0m\u001b[37m\u001b[0m \u001b[1m0s\u001b[0m 27ms/step - accuracy: 0.8289 - loss: 0.3569 - val_accuracy: 0.9000 - val_loss: 0.2620\n",
            "Epoch 67/100\n",
            "\u001b[1m3/3\u001b[0m \u001b[32m━━━━━━━━━━━━━━━━━━━━\u001b[0m\u001b[37m\u001b[0m \u001b[1m0s\u001b[0m 21ms/step - accuracy: 0.8172 - loss: 0.3649 - val_accuracy: 0.9000 - val_loss: 0.2616\n",
            "Epoch 68/100\n",
            "\u001b[1m3/3\u001b[0m \u001b[32m━━━━━━━━━━━━━━━━━━━━\u001b[0m\u001b[37m\u001b[0m \u001b[1m0s\u001b[0m 16ms/step - accuracy: 0.8508 - loss: 0.3629 - val_accuracy: 0.9000 - val_loss: 0.2618\n",
            "Epoch 69/100\n",
            "\u001b[1m3/3\u001b[0m \u001b[32m━━━━━━━━━━━━━━━━━━━━\u001b[0m\u001b[37m\u001b[0m \u001b[1m0s\u001b[0m 16ms/step - accuracy: 0.8664 - loss: 0.3180 - val_accuracy: 0.9000 - val_loss: 0.2617\n",
            "Epoch 70/100\n",
            "\u001b[1m3/3\u001b[0m \u001b[32m━━━━━━━━━━━━━━━━━━━━\u001b[0m\u001b[37m\u001b[0m \u001b[1m0s\u001b[0m 15ms/step - accuracy: 0.8586 - loss: 0.3289 - val_accuracy: 0.9000 - val_loss: 0.2625\n",
            "Epoch 71/100\n",
            "\u001b[1m3/3\u001b[0m \u001b[32m━━━━━━━━━━━━━━━━━━━━\u001b[0m\u001b[37m\u001b[0m \u001b[1m0s\u001b[0m 16ms/step - accuracy: 0.8609 - loss: 0.3469 - val_accuracy: 0.9000 - val_loss: 0.2628\n",
            "Epoch 72/100\n",
            "\u001b[1m3/3\u001b[0m \u001b[32m━━━━━━━━━━━━━━━━━━━━\u001b[0m\u001b[37m\u001b[0m \u001b[1m0s\u001b[0m 16ms/step - accuracy: 0.8375 - loss: 0.3822 - val_accuracy: 0.9000 - val_loss: 0.2620\n",
            "Epoch 73/100\n",
            "\u001b[1m3/3\u001b[0m \u001b[32m━━━━━━━━━━━━━━━━━━━━\u001b[0m\u001b[37m\u001b[0m \u001b[1m0s\u001b[0m 17ms/step - accuracy: 0.8352 - loss: 0.3721 - val_accuracy: 0.9000 - val_loss: 0.2603\n",
            "Epoch 74/100\n",
            "\u001b[1m3/3\u001b[0m \u001b[32m━━━━━━━━━━━━━━━━━━━━\u001b[0m\u001b[37m\u001b[0m \u001b[1m0s\u001b[0m 16ms/step - accuracy: 0.8430 - loss: 0.3629 - val_accuracy: 0.9000 - val_loss: 0.2598\n",
            "Epoch 75/100\n",
            "\u001b[1m3/3\u001b[0m \u001b[32m━━━━━━━━━━━━━━━━━━━━\u001b[0m\u001b[37m\u001b[0m \u001b[1m0s\u001b[0m 16ms/step - accuracy: 0.8664 - loss: 0.3007 - val_accuracy: 0.8500 - val_loss: 0.2585\n",
            "Epoch 76/100\n",
            "\u001b[1m3/3\u001b[0m \u001b[32m━━━━━━━━━━━━━━━━━━━━\u001b[0m\u001b[37m\u001b[0m \u001b[1m0s\u001b[0m 16ms/step - accuracy: 0.8508 - loss: 0.3243 - val_accuracy: 0.8500 - val_loss: 0.2585\n",
            "Epoch 77/100\n",
            "\u001b[1m3/3\u001b[0m \u001b[32m━━━━━━━━━━━━━━━━━━━━\u001b[0m\u001b[37m\u001b[0m \u001b[1m0s\u001b[0m 18ms/step - accuracy: 0.8391 - loss: 0.3611 - val_accuracy: 0.8500 - val_loss: 0.2585\n",
            "Epoch 78/100\n",
            "\u001b[1m3/3\u001b[0m \u001b[32m━━━━━━━━━━━━━━━━━━━━\u001b[0m\u001b[37m\u001b[0m \u001b[1m0s\u001b[0m 34ms/step - accuracy: 0.8508 - loss: 0.3381 - val_accuracy: 0.8500 - val_loss: 0.2586\n",
            "Epoch 79/100\n",
            "\u001b[1m3/3\u001b[0m \u001b[32m━━━━━━━━━━━━━━━━━━━━\u001b[0m\u001b[37m\u001b[0m \u001b[1m0s\u001b[0m 15ms/step - accuracy: 0.8586 - loss: 0.3264 - val_accuracy: 0.8500 - val_loss: 0.2581\n",
            "Epoch 80/100\n",
            "\u001b[1m3/3\u001b[0m \u001b[32m━━━━━━━━━━━━━━━━━━━━\u001b[0m\u001b[37m\u001b[0m \u001b[1m0s\u001b[0m 15ms/step - accuracy: 0.8586 - loss: 0.3317 - val_accuracy: 0.8500 - val_loss: 0.2582\n",
            "Epoch 81/100\n",
            "\u001b[1m3/3\u001b[0m \u001b[32m━━━━━━━━━━━━━━━━━━━━\u001b[0m\u001b[37m\u001b[0m \u001b[1m0s\u001b[0m 16ms/step - accuracy: 0.8547 - loss: 0.3529 - val_accuracy: 0.8500 - val_loss: 0.2584\n",
            "Epoch 82/100\n",
            "\u001b[1m3/3\u001b[0m \u001b[32m━━━━━━━━━━━━━━━━━━━━\u001b[0m\u001b[37m\u001b[0m \u001b[1m0s\u001b[0m 16ms/step - accuracy: 0.8508 - loss: 0.3419 - val_accuracy: 0.8500 - val_loss: 0.2584\n",
            "Epoch 83/100\n",
            "\u001b[1m3/3\u001b[0m \u001b[32m━━━━━━━━━━━━━━━━━━━━\u001b[0m\u001b[37m\u001b[0m \u001b[1m0s\u001b[0m 16ms/step - accuracy: 0.8586 - loss: 0.3180 - val_accuracy: 0.8500 - val_loss: 0.2581\n",
            "Epoch 84/100\n",
            "\u001b[1m3/3\u001b[0m \u001b[32m━━━━━━━━━━━━━━━━━━━━\u001b[0m\u001b[37m\u001b[0m \u001b[1m0s\u001b[0m 16ms/step - accuracy: 0.8352 - loss: 0.3521 - val_accuracy: 0.8500 - val_loss: 0.2584\n",
            "Epoch 85/100\n",
            "\u001b[1m3/3\u001b[0m \u001b[32m━━━━━━━━━━━━━━━━━━━━\u001b[0m\u001b[37m\u001b[0m \u001b[1m0s\u001b[0m 16ms/step - accuracy: 0.8508 - loss: 0.3431 - val_accuracy: 0.9000 - val_loss: 0.2592\n",
            "Epoch 86/100\n",
            "\u001b[1m3/3\u001b[0m \u001b[32m━━━━━━━━━━━━━━━━━━━━\u001b[0m\u001b[37m\u001b[0m \u001b[1m0s\u001b[0m 16ms/step - accuracy: 0.8508 - loss: 0.3391 - val_accuracy: 0.9000 - val_loss: 0.2590\n",
            "Epoch 87/100\n",
            "\u001b[1m3/3\u001b[0m \u001b[32m━━━━━━━━━━━━━━━━━━━━\u001b[0m\u001b[37m\u001b[0m \u001b[1m0s\u001b[0m 16ms/step - accuracy: 0.8625 - loss: 0.3205 - val_accuracy: 0.9000 - val_loss: 0.2590\n",
            "Epoch 88/100\n",
            "\u001b[1m3/3\u001b[0m \u001b[32m━━━━━━━━━━━━━━━━━━━━\u001b[0m\u001b[37m\u001b[0m \u001b[1m0s\u001b[0m 16ms/step - accuracy: 0.8687 - loss: 0.3363 - val_accuracy: 0.9000 - val_loss: 0.2597\n",
            "Epoch 89/100\n",
            "\u001b[1m3/3\u001b[0m \u001b[32m━━━━━━━━━━━━━━━━━━━━\u001b[0m\u001b[37m\u001b[0m \u001b[1m0s\u001b[0m 19ms/step - accuracy: 0.8687 - loss: 0.3356 - val_accuracy: 0.9000 - val_loss: 0.2590\n",
            "Epoch 90/100\n",
            "\u001b[1m3/3\u001b[0m \u001b[32m━━━━━━━━━━━━━━━━━━━━\u001b[0m\u001b[37m\u001b[0m \u001b[1m0s\u001b[0m 16ms/step - accuracy: 0.8453 - loss: 0.3781 - val_accuracy: 0.9000 - val_loss: 0.2599\n",
            "Epoch 91/100\n",
            "\u001b[1m3/3\u001b[0m \u001b[32m━━━━━━━━━━━━━━━━━━━━\u001b[0m\u001b[37m\u001b[0m \u001b[1m0s\u001b[0m 18ms/step - accuracy: 0.8727 - loss: 0.3221 - val_accuracy: 0.9000 - val_loss: 0.2581\n",
            "Epoch 92/100\n",
            "\u001b[1m3/3\u001b[0m \u001b[32m━━━━━━━━━━━━━━━━━━━━\u001b[0m\u001b[37m\u001b[0m \u001b[1m0s\u001b[0m 23ms/step - accuracy: 0.8766 - loss: 0.3182 - val_accuracy: 0.9000 - val_loss: 0.2565\n",
            "Epoch 93/100\n",
            "\u001b[1m3/3\u001b[0m \u001b[32m━━━━━━━━━━━━━━━━━━━━\u001b[0m\u001b[37m\u001b[0m \u001b[1m0s\u001b[0m 22ms/step - accuracy: 0.8648 - loss: 0.3383 - val_accuracy: 0.9000 - val_loss: 0.2557\n",
            "Epoch 94/100\n",
            "\u001b[1m3/3\u001b[0m \u001b[32m━━━━━━━━━━━━━━━━━━━━\u001b[0m\u001b[37m\u001b[0m \u001b[1m0s\u001b[0m 16ms/step - accuracy: 0.8922 - loss: 0.2964 - val_accuracy: 0.9000 - val_loss: 0.2538\n",
            "Epoch 95/100\n",
            "\u001b[1m3/3\u001b[0m \u001b[32m━━━━━━━━━━━━━━━━━━━━\u001b[0m\u001b[37m\u001b[0m \u001b[1m0s\u001b[0m 16ms/step - accuracy: 0.8625 - loss: 0.3162 - val_accuracy: 0.9000 - val_loss: 0.2528\n",
            "Epoch 96/100\n",
            "\u001b[1m3/3\u001b[0m \u001b[32m━━━━━━━━━━━━━━━━━━━━\u001b[0m\u001b[37m\u001b[0m \u001b[1m0s\u001b[0m 17ms/step - accuracy: 0.8430 - loss: 0.3323 - val_accuracy: 0.9000 - val_loss: 0.2539\n",
            "Epoch 97/100\n",
            "\u001b[1m3/3\u001b[0m \u001b[32m━━━━━━━━━━━━━━━━━━━━\u001b[0m\u001b[37m\u001b[0m \u001b[1m0s\u001b[0m 16ms/step - accuracy: 0.8570 - loss: 0.3503 - val_accuracy: 0.9000 - val_loss: 0.2546\n",
            "Epoch 98/100\n",
            "\u001b[1m3/3\u001b[0m \u001b[32m━━━━━━━━━━━━━━━━━━━━\u001b[0m\u001b[37m\u001b[0m \u001b[1m0s\u001b[0m 16ms/step - accuracy: 0.8648 - loss: 0.3463 - val_accuracy: 0.9000 - val_loss: 0.2549\n",
            "Epoch 99/100\n",
            "\u001b[1m3/3\u001b[0m \u001b[32m━━━━━━━━━━━━━━━━━━━━\u001b[0m\u001b[37m\u001b[0m \u001b[1m0s\u001b[0m 16ms/step - accuracy: 0.8766 - loss: 0.3032 - val_accuracy: 0.9000 - val_loss: 0.2551\n",
            "Epoch 100/100\n",
            "\u001b[1m3/3\u001b[0m \u001b[32m━━━━━━━━━━━━━━━━━━━━\u001b[0m\u001b[37m\u001b[0m \u001b[1m0s\u001b[0m 16ms/step - accuracy: 0.8648 - loss: 0.3331 - val_accuracy: 0.9000 - val_loss: 0.2548\n"
          ]
        }
      ]
    },
    {
      "cell_type": "code",
      "source": [
        "model.get_weights()"
      ],
      "metadata": {
        "colab": {
          "base_uri": "https://localhost:8080/"
        },
        "id": "8K2E1Z5Oupj_",
        "outputId": "06958206-baa6-42ee-cb9f-e75f6071b931"
      },
      "execution_count": 16,
      "outputs": [
        {
          "output_type": "execute_result",
          "data": {
            "text/plain": [
              "[array([[-0.49489838,  0.12203906,  0.16421737,  0.94208395, -0.34069514,\n",
              "          0.4948822 ,  0.8300423 , -0.79731107,  0.7089484 ,  0.9469554 ],\n",
              "        [ 1.58736   , -0.80694044,  0.7822406 , -0.09699852, -1.0676063 ,\n",
              "         -0.77720034, -0.6696466 ,  1.6984799 , -0.580978  , -0.03402041]],\n",
              "       dtype=float32),\n",
              " array([ 0.0923468 , -0.08905255,  0.11665604,  0.12989967,  0.2210333 ,\n",
              "         0.10715908,  0.06100707,  0.10722238,  0.18010266,  0.1079094 ],\n",
              "       dtype=float32),\n",
              " array([[ 0.14156933,  0.16952887,  0.24700771,  0.6162612 , -1.0216438 ,\n",
              "         -0.2682304 ,  0.05365221, -0.66890377,  0.30208263, -0.12210742],\n",
              "        [ 0.05072511, -0.49312866, -0.16789411, -0.05718426,  0.17272265,\n",
              "         -0.13055648,  0.18483469,  0.14171387,  0.6444613 , -0.02468474],\n",
              "        [ 0.27992982,  0.4275847 ,  0.18360248,  0.29781434,  0.1227738 ,\n",
              "          0.05623386,  0.3139994 ,  0.213795  , -0.26912007, -0.51021373],\n",
              "        [ 0.4737886 ,  0.2380364 ,  0.1731566 ,  0.0109492 ,  0.23492289,\n",
              "          0.3366892 ,  0.6560706 ,  0.26170748, -0.19255845,  0.01233441],\n",
              "        [ 0.37688527,  0.4356856 ,  0.28217554, -0.5281767 ,  0.8496995 ,\n",
              "          0.47094768, -0.01656738,  0.2667108 ,  0.04771706, -0.36538845],\n",
              "        [-0.38996014, -0.35137627, -0.23416094, -0.39013   ,  0.5618196 ,\n",
              "          0.09648661,  0.6777886 ,  0.29072067,  0.22382386,  0.23129277],\n",
              "        [-0.04074593, -0.36413524, -0.22934319,  0.21630323, -0.03655016,\n",
              "          0.38015816,  0.5066481 ,  0.30707788, -0.10412087, -0.01070293],\n",
              "        [ 0.68845665,  0.11060047, -0.55242825, -0.03178088, -0.284494  ,\n",
              "         -0.30947447, -0.8692716 , -0.5446826 ,  0.085359  , -0.19430983],\n",
              "        [ 0.2010713 , -0.11234531, -0.2902105 , -0.01044289,  0.10055265,\n",
              "          0.00945507,  0.53845096,  0.00666368, -0.24506444,  0.07879712],\n",
              "        [ 0.36361694,  0.585465  ,  0.17121449,  0.26019827, -0.13568214,\n",
              "          0.15827103,  0.08062741,  0.5579258 , -0.29898086, -0.24014768]],\n",
              "       dtype=float32),\n",
              " array([ 0.06112545,  0.11362594,  0.09390748,  0.10164987,  0.04162398,\n",
              "        -0.02313161,  0.20563544,  0.15934098, -0.0297518 , -0.03322657],\n",
              "       dtype=float32),\n",
              " array([[ 5.01635134e-01,  2.92789608e-01,  3.88341069e-01,\n",
              "         -2.08292171e-01, -2.82159477e-01,  7.83714890e-01,\n",
              "         -2.85345316e-01,  9.77343880e-03,  1.53200611e-01,\n",
              "         -1.68244392e-01],\n",
              "        [ 2.76853085e-01,  4.57117677e-01, -7.65251666e-02,\n",
              "         -1.88715398e-01,  2.91668087e-01,  4.07664478e-01,\n",
              "          2.83975005e-01,  3.16019654e-01, -2.68194884e-01,\n",
              "         -2.91057795e-01],\n",
              "        [ 1.84285998e-01, -1.19359754e-01, -7.09519029e-01,\n",
              "          4.13273662e-01,  6.05985165e-01,  4.66076642e-01,\n",
              "          8.22984636e-01,  8.76433998e-02,  7.98218176e-02,\n",
              "         -1.43560246e-01],\n",
              "        [ 2.56769001e-01,  3.29421014e-01,  1.73069283e-01,\n",
              "          2.18568802e-01, -6.43617734e-02, -2.30929971e-01,\n",
              "         -1.32234059e-02, -3.44088793e-01,  3.53010297e-01,\n",
              "         -6.74872816e-01],\n",
              "        [ 1.20985903e-01, -5.97657621e-01, -4.77427483e-01,\n",
              "          8.51470381e-02, -4.10119206e-01, -3.96512926e-01,\n",
              "         -9.49568599e-02, -7.81220496e-02,  2.69384623e-01,\n",
              "          2.40818530e-01],\n",
              "        [-3.10955495e-01, -1.77580655e-01, -1.90866798e-01,\n",
              "          6.71881437e-01, -2.28222266e-01, -7.72126436e-01,\n",
              "          1.19438097e-01, -5.06419003e-01, -1.56645864e-01,\n",
              "          3.25332075e-01],\n",
              "        [-5.82026802e-02,  1.74210235e-01,  6.64995983e-03,\n",
              "          4.99044716e-01, -1.70249090e-01,  9.07127708e-02,\n",
              "         -5.57542384e-01, -2.76881680e-02, -6.48462228e-05,\n",
              "          6.82795763e-01],\n",
              "        [ 4.79756817e-02,  5.11186838e-04,  2.68233627e-01,\n",
              "         -9.56878290e-02, -6.51529372e-01,  2.11811945e-01,\n",
              "         -7.21804917e-01,  3.02767437e-02, -9.46067125e-02,\n",
              "          4.25076336e-01],\n",
              "        [ 2.51688927e-01,  1.98703110e-02, -9.48101804e-02,\n",
              "         -5.14257997e-02,  4.03177708e-01,  4.10737962e-01,\n",
              "          2.27738887e-01, -2.45777041e-01,  2.36437842e-01,\n",
              "         -1.00777395e-01],\n",
              "        [-4.15656835e-01,  2.69789398e-01, -3.73791367e-01,\n",
              "         -6.11551225e-01, -5.89812994e-01,  2.28718549e-01,\n",
              "         -4.97708201e-01, -1.69753400e-03, -1.76118091e-01,\n",
              "          1.56641915e-01]], dtype=float32),\n",
              " array([ 0.06227324,  0.08687372,  0.06028918,  0.17528786,  0.        ,\n",
              "         0.09393842,  0.00591823, -0.09252048, -0.06937318,  0.15194094],\n",
              "       dtype=float32),\n",
              " array([[-0.07455202, -0.45695218, -0.01518233,  0.22539394,  0.28326765,\n",
              "         -0.2805966 ,  0.1216775 ,  0.71266705,  0.10262285,  0.16012397],\n",
              "        [-0.2208202 ,  0.39102638, -0.22933017, -0.49991423,  0.41969118,\n",
              "         -0.17093886,  0.05044809,  0.5352618 ,  0.11090468,  0.49589866],\n",
              "        [ 0.04087056,  0.33530018, -0.80996335, -0.10450076,  0.2371642 ,\n",
              "          0.46206686,  0.01834372,  0.07642468, -0.21123724,  0.33855855],\n",
              "        [ 0.4928208 ,  0.31523603,  0.22560881,  0.13414685,  0.31579956,\n",
              "         -0.01457141,  0.06139109,  0.220727  ,  0.38711873,  0.17362635],\n",
              "        [ 0.492742  , -0.8365165 ,  0.27865556,  0.10644515, -0.34447002,\n",
              "          0.0593473 ,  0.7002276 , -0.356954  , -0.1457843 ,  0.25862285],\n",
              "        [ 0.04750369, -0.33988553, -0.17417943, -0.24987753,  0.45229873,\n",
              "         -0.04548793,  0.62609726,  0.5900484 , -0.06001097,  0.03543689],\n",
              "        [ 0.07175937, -0.32598713,  0.10754158, -0.2669069 ,  0.5419399 ,\n",
              "         -0.07513044,  0.12228246, -0.27573794, -0.3416262 , -0.07356301],\n",
              "        [ 0.3422535 ,  0.03638199,  0.27961892,  0.03059406, -0.2776056 ,\n",
              "         -0.09043121, -0.46189025,  0.05432867, -0.21760857,  0.22414523],\n",
              "        [ 0.06809809,  0.09106158, -0.15886182, -0.16451807, -0.14521106,\n",
              "         -0.1589902 , -0.00134837,  0.22778349,  0.07750243,  0.23693036],\n",
              "        [ 0.4796764 ,  0.2750206 , -0.1511794 ,  0.50251603, -0.23264895,\n",
              "         -0.01249658, -0.03029598, -0.23068373,  0.29416355, -0.14133535]],\n",
              "       dtype=float32),\n",
              " array([ 0.12033687,  0.11819841,  0.        ,  0.13729057,  0.04413579,\n",
              "        -0.03522239, -0.05557895,  0.04324463,  0.1111086 ,  0.02720432],\n",
              "       dtype=float32),\n",
              " array([[ 0.31393266],\n",
              "        [ 0.36986214],\n",
              "        [ 0.30431858],\n",
              "        [ 0.5340521 ],\n",
              "        [-0.58484405],\n",
              "        [-0.576185  ],\n",
              "        [-0.26808116],\n",
              "        [-0.1821754 ],\n",
              "        [ 0.33394417],\n",
              "        [-0.24035668]], dtype=float32),\n",
              " array([0.09395791], dtype=float32)]"
            ]
          },
          "metadata": {},
          "execution_count": 16
        }
      ]
    },
    {
      "cell_type": "code",
      "source": [
        "from mlxtend.plotting import plot_decision_regions\n",
        "plot_decision_regions(X,y.astype('int'), clf=model, legend=2)"
      ],
      "metadata": {
        "colab": {
          "base_uri": "https://localhost:8080/",
          "height": 467
        },
        "id": "h2jKnSGeuuLY",
        "outputId": "6e387d8f-31f2-49a2-9525-d69922f1a9bf"
      },
      "execution_count": 17,
      "outputs": [
        {
          "output_type": "stream",
          "name": "stdout",
          "text": [
            "\u001b[1m9600/9600\u001b[0m \u001b[32m━━━━━━━━━━━━━━━━━━━━\u001b[0m\u001b[37m\u001b[0m \u001b[1m12s\u001b[0m 1ms/step\n"
          ]
        },
        {
          "output_type": "execute_result",
          "data": {
            "text/plain": [
              "<Axes: >"
            ]
          },
          "metadata": {},
          "execution_count": 17
        },
        {
          "output_type": "display_data",
          "data": {
            "text/plain": [
              "<Figure size 640x480 with 1 Axes>"
            ],
            "image/png": "[encoded data removed]"
          },
          "metadata": {}
        }
      ]
    },
    {
      "cell_type": "markdown",
      "source": [
        "little better then rest cases"
      ],
      "metadata": {
        "id": "XKi-LVWfLsWp"
      }
    },
    {
      "cell_type": "code",
      "source": [
        "(np.random.randn(10,10)*0.01).min()"
      ],
      "metadata": {
        "colab": {
          "base_uri": "https://localhost:8080/"
        },
        "id": "6cQtO9mpuxLI",
        "outputId": "9c9ca5dd-86ce-4065-dcd7-46a0a10a9c5b"
      },
      "execution_count": 18,
      "outputs": [
        {
          "output_type": "execute_result",
          "data": {
            "text/plain": [
              "-0.02630747977162426"
            ]
          },
          "metadata": {},
          "execution_count": 18
        }
      ]
    },
    {
      "cell_type": "code",
      "source": [
        "(np.random.randn(10,10)*0.01).max()"
      ],
      "metadata": {
        "colab": {
          "base_uri": "https://localhost:8080/"
        },
        "id": "diiaUiL92T7H",
        "outputId": "5e6e503b-beb7-4e88-a2ee-5c41a6578098"
      },
      "execution_count": 19,
      "outputs": [
        {
          "output_type": "execute_result",
          "data": {
            "text/plain": [
              "0.022888993196963543"
            ]
          },
          "metadata": {},
          "execution_count": 19
        }
      ]
    },
    {
      "cell_type": "code",
      "source": [],
      "metadata": {
        "id": "b2DJRNfI3BOE"
      },
      "execution_count": null,
      "outputs": []
    }
  ]
}